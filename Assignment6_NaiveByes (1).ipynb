{
 "cells": [
  {
   "cell_type": "markdown",
   "metadata": {},
   "source": [
    "## DonorsChoose"
   ]
  },
  {
   "cell_type": "markdown",
   "metadata": {},
   "source": [
    "<p>\n",
    "DonorsChoose.org receives hundreds of thousands of project proposals each year for classroom projects in need of funding. Right now, a large number of volunteers is needed to manually screen each submission before it's approved to be posted on the DonorsChoose.org website.\n",
    "</p>\n",
    "<p>\n",
    "    Next year, DonorsChoose.org expects to receive close to 500,000 project proposals. As a result, there are three main problems they need to solve:\n",
    "<ul>\n",
    "<li>\n",
    "    How to scale current manual processes and resources to screen 500,000 projects so that they can be posted as quickly and as efficiently as possible</li>\n",
    "    <li>How to increase the consistency of project vetting across different volunteers to improve the experience for teachers</li>\n",
    "    <li>How to focus volunteer time on the applications that need the most assistance</li>\n",
    "    </ul>\n",
    "</p>    \n",
    "<p>\n",
    "The goal of the competition is to predict whether or not a DonorsChoose.org project proposal submitted by a teacher will be approved, using the text of project descriptions as well as additional metadata about the project, teacher, and school. DonorsChoose.org can then use this information to identify projects most likely to need further review before approval.\n",
    "</p>"
   ]
  },
  {
   "cell_type": "markdown",
   "metadata": {},
   "source": [
    "\n",
    "\n",
    "\n",
    "## About the DonorsChoose Data Set\n",
    "\n",
    "The `train.csv` data set provided by DonorsChoose contains the following features:\n",
    "\n",
    "Feature | Description \n",
    "----------|---------------\n",
    "**`project_id`** | A unique identifier for the proposed project. **Example:** `p036502`   \n",
    "**`project_title`**    | Title of the project. **Examples:**<br><ul><li><code>Art Will Make You Happy!</code></li><li><code>First Grade Fun</code></li></ul> \n",
    "**`project_grade_category`** | Grade level of students for which the project is targeted. One of the following enumerated values: <br/><ul><li><code>Grades PreK-2</code></li><li><code>Grades 3-5</code></li><li><code>Grades 6-8</code></li><li><code>Grades 9-12</code></li></ul>  \n",
    " **`project_subject_categories`** | One or more (comma-separated) subject categories for the project from the following enumerated list of values:  <br/><ul><li><code>Applied Learning</code></li><li><code>Care &amp; Hunger</code></li><li><code>Health &amp; Sports</code></li><li><code>History &amp; Civics</code></li><li><code>Literacy &amp; Language</code></li><li><code>Math &amp; Science</code></li><li><code>Music &amp; The Arts</code></li><li><code>Special Needs</code></li><li><code>Warmth</code></li></ul><br/> **Examples:** <br/><ul><li><code>Music &amp; The Arts</code></li><li><code>Literacy &amp; Language, Math &amp; Science</code></li>  \n",
    "  **`school_state`** | State where school is located ([Two-letter U.S. postal code](https://en.wikipedia.org/wiki/List_of_U.S._state_abbreviations#Postal_codes)). **Example:** `WY`\n",
    "**`project_subject_subcategories`** | One or more (comma-separated) subject subcategories for the project. **Examples:** <br/><ul><li><code>Literacy</code></li><li><code>Literature &amp; Writing, Social Sciences</code></li></ul> \n",
    "**`project_resource_summary`** | An explanation of the resources needed for the project. **Example:** <br/><ul><li><code>My students need hands on literacy materials to manage sensory needs!</code</li></ul> \n",
    "**`project_essay_1`**    | First application essay<sup>*</sup>  \n",
    "**`project_essay_2`**    | Second application essay<sup>*</sup> \n",
    "**`project_essay_3`**    | Third application essay<sup>*</sup> \n",
    "**`project_essay_4`**    | Fourth application essay<sup>*</sup> \n",
    "**`project_submitted_datetime`** | Datetime when project application was submitted. **Example:** `2016-04-28 12:43:56.245`   \n",
    "**`teacher_id`** | A unique identifier for the teacher of the proposed project. **Example:** `bdf8baa8fedef6bfeec7ae4ff1c15c56`  \n",
    "**`teacher_prefix`** | Teacher's title. One of the following enumerated values: <br/><ul><li><code>nan</code></li><li><code>Dr.</code></li><li><code>Mr.</code></li><li><code>Mrs.</code></li><li><code>Ms.</code></li><li><code>Teacher.</code></li></ul>  \n",
    "**`teacher_number_of_previously_posted_projects`** | Number of project applications previously submitted by the same teacher. **Example:** `2` \n",
    "\n",
    "<sup>*</sup> See the section <b>Notes on the Essay Data</b> for more details about these features.\n",
    "\n",
    "Additionally, the `resources.csv` data set provides more data about the resources required for each project. Each line in this file represents a resource required by a project:\n",
    "\n",
    "Feature | Description \n",
    "----------|---------------\n",
    "**`id`** | A `project_id` value from the `train.csv` file.  **Example:** `p036502`   \n",
    "**`description`** | Desciption of the resource. **Example:** `Tenor Saxophone Reeds, Box of 25`   \n",
    "**`quantity`** | Quantity of the resource required. **Example:** `3`   \n",
    "**`price`** | Price of the resource required. **Example:** `9.95`   \n",
    "\n",
    "**Note:** Many projects require multiple resources. The `id` value corresponds to a `project_id` in train.csv, so you use it as a key to retrieve all resources needed for a project:\n",
    "\n",
    "The data set contains the following label (the value you will attempt to predict):\n",
    "\n",
    "Label | Description\n",
    "----------|---------------\n",
    "`project_is_approved` | A binary flag indicating whether DonorsChoose approved the project. A value of `0` indicates the project was not approved, and a value of `1` indicates the project was approved."
   ]
  },
  {
   "cell_type": "markdown",
   "metadata": {},
   "source": [
    "### Notes on the Essay Data\n",
    "\n",
    "<ul>\n",
    "Prior to May 17, 2016, the prompts for the essays were as follows:\n",
    "<li>__project_essay_1:__ \"Introduce us to your classroom\"</li>\n",
    "<li>__project_essay_2:__ \"Tell us more about your students\"</li>\n",
    "<li>__project_essay_3:__ \"Describe how your students will use the materials you're requesting\"</li>\n",
    "<li>__project_essay_3:__ \"Close by sharing why your project will make a difference\"</li>\n",
    "</ul>\n",
    "\n",
    "\n",
    "<ul>\n",
    "Starting on May 17, 2016, the number of essays was reduced from 4 to 2, and the prompts for the first 2 essays were changed to the following:<br>\n",
    "<li>__project_essay_1:__ \"Describe your students: What makes your students special? Specific details about their background, your neighborhood, and your school are all helpful.\"</li>\n",
    "<li>__project_essay_2:__ \"About your project: How will these materials make a difference in your students' learning and improve their school lives?\"</li>\n",
    "<br>For all projects with project_submitted_datetime of 2016-05-17 and later, the values of project_essay_3 and project_essay_4 will be NaN.\n",
    "</ul>\n"
   ]
  },
  {
   "cell_type": "code",
   "execution_count": 1,
   "metadata": {},
   "outputs": [],
   "source": [
    "%matplotlib inline\n",
    "import warnings\n",
    "warnings.filterwarnings(\"ignore\")\n",
    "\n",
    "import pandas as pd\n",
    "import numpy as np\n",
    "import nltk\n",
    "import matplotlib.pyplot as plt\n",
    "import seaborn as sns\n",
    "from sklearn.feature_extraction.text import TfidfVectorizer\n",
    "from sklearn.feature_extraction.text import CountVectorizer\n",
    "from sklearn.metrics import confusion_matrix\n",
    "from sklearn import metrics\n",
    "from sklearn.metrics import roc_curve, auc\n",
    "\n",
    "from sklearn.preprocessing import Normalizer\n",
    "import re\n",
    "# Tutorial about Python regular expressions: https://pymotw.com/2/re/\n",
    "\n",
    "import pickle\n",
    "from tqdm import tqdm\n",
    "import os\n",
    "\n",
    "# from plotly import plotly\n",
    "# import plotly.offline as offline\n",
    "# import plotly.graph_objs as go\n",
    "# offline.init_notebook_mode()\n",
    "from collections import Counter"
   ]
  },
  {
   "cell_type": "markdown",
   "metadata": {},
   "source": [
    "# 1. READING FILES "
   ]
  },
  {
   "cell_type": "code",
   "execution_count": 2,
   "metadata": {},
   "outputs": [],
   "source": [
    "project_data = pd.read_csv('train_data.csv')\n",
    "resource_data = pd.read_csv('resources.csv')"
   ]
  },
  {
   "cell_type": "code",
   "execution_count": 3,
   "metadata": {
    "scrolled": true
   },
   "outputs": [
    {
     "name": "stdout",
     "output_type": "stream",
     "text": [
      "Number of data points in train data (project data)  (109248, 17)\n",
      "--------------------------------------------------\n",
      "The attributes of data : ['Unnamed: 0' 'id' 'teacher_id' 'teacher_prefix' 'school_state'\n",
      " 'project_submitted_datetime' 'project_grade_category'\n",
      " 'project_subject_categories' 'project_subject_subcategories'\n",
      " 'project_title' 'project_essay_1' 'project_essay_2' 'project_essay_3'\n",
      " 'project_essay_4' 'project_resource_summary'\n",
      " 'teacher_number_of_previously_posted_projects' 'project_is_approved']\n"
     ]
    }
   ],
   "source": [
    "print(\"Number of data points in train data (project data) \", project_data.shape)\n",
    "print('-'*50)\n",
    "print(\"The attributes of data :\", project_data.columns.values)"
   ]
  },
  {
   "cell_type": "code",
   "execution_count": 4,
   "metadata": {},
   "outputs": [
    {
     "name": "stdout",
     "output_type": "stream",
     "text": [
      "Number of data points in train data (resource data)  (1541272, 4)\n",
      "--------------------------------------------------\n",
      "The attributes of data : ['id' 'description' 'quantity' 'price']\n"
     ]
    },
    {
     "data": {
      "text/html": [
       "<div>\n",
       "<style scoped>\n",
       "    .dataframe tbody tr th:only-of-type {\n",
       "        vertical-align: middle;\n",
       "    }\n",
       "\n",
       "    .dataframe tbody tr th {\n",
       "        vertical-align: top;\n",
       "    }\n",
       "\n",
       "    .dataframe thead th {\n",
       "        text-align: right;\n",
       "    }\n",
       "</style>\n",
       "<table border=\"1\" class=\"dataframe\">\n",
       "  <thead>\n",
       "    <tr style=\"text-align: right;\">\n",
       "      <th></th>\n",
       "      <th>id</th>\n",
       "      <th>description</th>\n",
       "      <th>quantity</th>\n",
       "      <th>price</th>\n",
       "    </tr>\n",
       "  </thead>\n",
       "  <tbody>\n",
       "    <tr>\n",
       "      <th>0</th>\n",
       "      <td>p233245</td>\n",
       "      <td>LC652 - Lakeshore Double-Space Mobile Drying Rack</td>\n",
       "      <td>1</td>\n",
       "      <td>149.00</td>\n",
       "    </tr>\n",
       "    <tr>\n",
       "      <th>1</th>\n",
       "      <td>p069063</td>\n",
       "      <td>Bouncy Bands for Desks (Blue support pipes)</td>\n",
       "      <td>3</td>\n",
       "      <td>14.95</td>\n",
       "    </tr>\n",
       "  </tbody>\n",
       "</table>\n",
       "</div>"
      ],
      "text/plain": [
       "        id                                        description  quantity  \\\n",
       "0  p233245  LC652 - Lakeshore Double-Space Mobile Drying Rack         1   \n",
       "1  p069063        Bouncy Bands for Desks (Blue support pipes)         3   \n",
       "\n",
       "    price  \n",
       "0  149.00  \n",
       "1   14.95  "
      ]
     },
     "execution_count": 4,
     "metadata": {},
     "output_type": "execute_result"
    }
   ],
   "source": [
    "print(\"Number of data points in train data (resource data) \", resource_data.shape)\n",
    "print('-'*50)\n",
    "print(\"The attributes of data :\", resource_data.columns.values)\n",
    "resource_data.head(2)"
   ]
  },
  {
   "cell_type": "markdown",
   "metadata": {},
   "source": [
    "### 1.1 Preprocessing Categorical Features: project_grade_category"
   ]
  },
  {
   "cell_type": "code",
   "execution_count": 5,
   "metadata": {},
   "outputs": [
    {
     "name": "stdout",
     "output_type": "stream",
     "text": [
      "Project grade Grades PreK-2    44225\n",
      "Grades 3-5       37137\n",
      "Grades 6-8       16923\n",
      "Grades 9-12      10963\n",
      "Name: project_grade_category, dtype: int64\n",
      "--------------------------------------------------\n",
      "Grades 3-5\n",
      "Grades PreK-2\n"
     ]
    }
   ],
   "source": [
    "print(\"Project grade\" ,project_data['project_grade_category'].value_counts())\n",
    "## visulaize how project grade looks like\n",
    "print('-'*50)\n",
    "print(project_data['project_grade_category'].values[1000])\n",
    "print(project_data['project_grade_category'].values[1500])"
   ]
  },
  {
   "cell_type": "markdown",
   "metadata": {},
   "source": [
    "Remove spaces , convert \"-\" to \"_\" and convert letters to lower case and remove grades as it is repeated"
   ]
  },
  {
   "cell_type": "code",
   "execution_count": 6,
   "metadata": {},
   "outputs": [
    {
     "data": {
      "text/plain": [
       "prek_2    44225\n",
       "3_5       37137\n",
       "6_8       16923\n",
       "9_12      10963\n",
       "Name: project_grade_category, dtype: int64"
      ]
     },
     "execution_count": 6,
     "metadata": {},
     "output_type": "execute_result"
    }
   ],
   "source": [
    "# https://stackoverflow.com/questions/36383821/pandas-dataframe-apply-function-to-column-strings-based-on-other-column-value\n",
    "project_data['project_grade_category'] = project_data['project_grade_category'].str.replace('Grades ','')\n",
    "project_data['project_grade_category'] = project_data['project_grade_category'].str.replace(' ','_')\n",
    "project_data['project_grade_category'] = project_data['project_grade_category'].str.replace('-','_')\n",
    "project_data['project_grade_category'] = project_data['project_grade_category'].str.lower()\n",
    "project_data['project_grade_category'].value_counts()"
   ]
  },
  {
   "cell_type": "markdown",
   "metadata": {},
   "source": [
    "\n"
   ]
  },
  {
   "cell_type": "code",
   "execution_count": 7,
   "metadata": {},
   "outputs": [
    {
     "data": {
      "text/html": [
       "<div>\n",
       "<style scoped>\n",
       "    .dataframe tbody tr th:only-of-type {\n",
       "        vertical-align: middle;\n",
       "    }\n",
       "\n",
       "    .dataframe tbody tr th {\n",
       "        vertical-align: top;\n",
       "    }\n",
       "\n",
       "    .dataframe thead th {\n",
       "        text-align: right;\n",
       "    }\n",
       "</style>\n",
       "<table border=\"1\" class=\"dataframe\">\n",
       "  <thead>\n",
       "    <tr style=\"text-align: right;\">\n",
       "      <th></th>\n",
       "      <th>Unnamed: 0</th>\n",
       "      <th>id</th>\n",
       "      <th>teacher_id</th>\n",
       "      <th>teacher_prefix</th>\n",
       "      <th>school_state</th>\n",
       "      <th>project_submitted_datetime</th>\n",
       "      <th>project_grade_category</th>\n",
       "      <th>project_subject_subcategories</th>\n",
       "      <th>project_title</th>\n",
       "      <th>project_essay_1</th>\n",
       "      <th>project_essay_2</th>\n",
       "      <th>project_essay_3</th>\n",
       "      <th>project_essay_4</th>\n",
       "      <th>project_resource_summary</th>\n",
       "      <th>teacher_number_of_previously_posted_projects</th>\n",
       "      <th>project_is_approved</th>\n",
       "      <th>clean_categories</th>\n",
       "    </tr>\n",
       "  </thead>\n",
       "  <tbody>\n",
       "    <tr>\n",
       "      <th>0</th>\n",
       "      <td>160221</td>\n",
       "      <td>p253737</td>\n",
       "      <td>c90749f5d961ff158d4b4d1e7dc665fc</td>\n",
       "      <td>Mrs.</td>\n",
       "      <td>IN</td>\n",
       "      <td>2016-12-05 13:43:57</td>\n",
       "      <td>prek_2</td>\n",
       "      <td>ESL, Literacy</td>\n",
       "      <td>Educational Support for English Learners at Home</td>\n",
       "      <td>My students are English learners that are work...</td>\n",
       "      <td>\\\"The limits of your language are the limits o...</td>\n",
       "      <td>NaN</td>\n",
       "      <td>NaN</td>\n",
       "      <td>My students need opportunities to practice beg...</td>\n",
       "      <td>0</td>\n",
       "      <td>0</td>\n",
       "      <td>Literacy_Language</td>\n",
       "    </tr>\n",
       "    <tr>\n",
       "      <th>1</th>\n",
       "      <td>140945</td>\n",
       "      <td>p258326</td>\n",
       "      <td>897464ce9ddc600bced1151f324dd63a</td>\n",
       "      <td>Mr.</td>\n",
       "      <td>FL</td>\n",
       "      <td>2016-10-25 09:22:10</td>\n",
       "      <td>6_8</td>\n",
       "      <td>Civics &amp; Government, Team Sports</td>\n",
       "      <td>Wanted: Projector for Hungry Learners</td>\n",
       "      <td>Our students arrive to our school eager to lea...</td>\n",
       "      <td>The projector we need for our school is very c...</td>\n",
       "      <td>NaN</td>\n",
       "      <td>NaN</td>\n",
       "      <td>My students need a projector to help with view...</td>\n",
       "      <td>7</td>\n",
       "      <td>1</td>\n",
       "      <td>History_Civics Health_Sports</td>\n",
       "    </tr>\n",
       "  </tbody>\n",
       "</table>\n",
       "</div>"
      ],
      "text/plain": [
       "   Unnamed: 0       id                        teacher_id teacher_prefix  \\\n",
       "0      160221  p253737  c90749f5d961ff158d4b4d1e7dc665fc           Mrs.   \n",
       "1      140945  p258326  897464ce9ddc600bced1151f324dd63a            Mr.   \n",
       "\n",
       "  school_state project_submitted_datetime project_grade_category  \\\n",
       "0           IN        2016-12-05 13:43:57                 prek_2   \n",
       "1           FL        2016-10-25 09:22:10                    6_8   \n",
       "\n",
       "      project_subject_subcategories  \\\n",
       "0                     ESL, Literacy   \n",
       "1  Civics & Government, Team Sports   \n",
       "\n",
       "                                      project_title  \\\n",
       "0  Educational Support for English Learners at Home   \n",
       "1             Wanted: Projector for Hungry Learners   \n",
       "\n",
       "                                     project_essay_1  \\\n",
       "0  My students are English learners that are work...   \n",
       "1  Our students arrive to our school eager to lea...   \n",
       "\n",
       "                                     project_essay_2 project_essay_3  \\\n",
       "0  \\\"The limits of your language are the limits o...             NaN   \n",
       "1  The projector we need for our school is very c...             NaN   \n",
       "\n",
       "  project_essay_4                           project_resource_summary  \\\n",
       "0             NaN  My students need opportunities to practice beg...   \n",
       "1             NaN  My students need a projector to help with view...   \n",
       "\n",
       "   teacher_number_of_previously_posted_projects  project_is_approved  \\\n",
       "0                                             0                    0   \n",
       "1                                             7                    1   \n",
       "\n",
       "               clean_categories  \n",
       "0             Literacy_Language  \n",
       "1  History_Civics Health_Sports  "
      ]
     },
     "execution_count": 7,
     "metadata": {},
     "output_type": "execute_result"
    }
   ],
   "source": [
    "catogories = list(project_data['project_subject_categories'].values)\n",
    "# remove special characters from list of strings python: https://stackoverflow.com/a/47301924/4084039\n",
    "# reference from course material : reference_EDA.ipynb  \n",
    "# https://www.geeksforgeeks.org/removing-stop-words-nltk-python/\n",
    "# https://stackoverflow.com/questions/23669024/how-to-strip-a-specific-word-from-a-string\n",
    "# https://stackoverflow.com/questions/8270092/remove-all-whitespace-in-a-string-in-python\n",
    "cat_list = []\n",
    "for i in catogories:\n",
    "    temp = \"\"\n",
    "    # consider we have text like this \"Math & Science, Warmth, Care & Hunger\"\n",
    "    for j in i.split(','): # it will split it in three parts [\"Math & Science\", \"Warmth\", \"Care & Hunger\"]\n",
    "        if 'The' in j.split(): # this will split each of the catogory based on space \"Math & Science\"=> \"Math\",\"&\", \"Science\"\n",
    "            j=j.replace('The','') # if we have the words \"The\" we are going to replace it with ''(i.e removing 'The')\n",
    "        j = j.replace(' ','') # we are placeing all the ' '(space) with ''(empty) ex:\"Math & Science\"=>\"Math&Science\"\n",
    "        temp+=j.strip()+\" \" #\" abc \".strip() will return \"abc\", remove the trailing spaces\n",
    "        temp = temp.replace('&','_') # we are replacing the & value into \n",
    "    cat_list.append(temp.strip())\n",
    "    \n",
    "project_data['clean_categories'] = cat_list\n",
    "project_data.drop(['project_subject_categories'], axis=1, inplace=True)\n",
    "project_data.head(2)\n"
   ]
  },
  {
   "cell_type": "code",
   "execution_count": 8,
   "metadata": {},
   "outputs": [],
   "source": [
    "# count of all the words in corpus python: https://stackoverflow.com/a/22898595/4084039\n",
    "from collections import Counter\n",
    "my_counter = Counter()\n",
    "for word in project_data['clean_categories'].values:\n",
    "    my_counter.update(word.split())\n",
    "# dict sort by value python: https://stackoverflow.com/a/613218/4084039\n",
    "cat_dict = dict(my_counter)\n",
    "sorted_cat_dict = dict(sorted(cat_dict.items(), key=lambda kv: kv[1]))    "
   ]
  },
  {
   "cell_type": "code",
   "execution_count": 9,
   "metadata": {},
   "outputs": [
    {
     "name": "stdout",
     "output_type": "stream",
     "text": [
      "Literacy_Language Math_Science\n",
      "--------------------------------------------------\n",
      "AppliedLearning\n",
      "--------------------------------------------------\n"
     ]
    }
   ],
   "source": [
    "#examples after preprocessing subject\n",
    "\n",
    "print(project_data['clean_categories'].values[100])\n",
    "print('-'*50)\n",
    "print(project_data['clean_categories'].values[200])\n",
    "print('-'*50)"
   ]
  },
  {
   "cell_type": "markdown",
   "metadata": {},
   "source": [
    "### 1.3  Preprocessing Categorical Features: project_subject_subcategories "
   ]
  },
  {
   "cell_type": "code",
   "execution_count": 10,
   "metadata": {},
   "outputs": [],
   "source": [
    "sub_catogories = list(project_data['project_subject_subcategories'].values)\n",
    "# remove special characters from list of strings python: https://stackoverflow.com/a/47301924/4084039\n",
    "# reference from course material : reference_EDA.ipynb \n",
    "# https://www.geeksforgeeks.org/removing-stop-words-nltk-python/\n",
    "# https://stackoverflow.com/questions/23669024/how-to-strip-a-specific-word-from-a-string\n",
    "# https://stackoverflow.com/questions/8270092/remove-all-whitespace-in-a-string-in-python\n",
    "\n",
    "sub_cat_list = []\n",
    "for i in sub_catogories:\n",
    "    temp = \"\"\n",
    "    # consider we have text like this \"Math & Science, Warmth, Care & Hunger\"\n",
    "    for j in i.split(','): # it will split it in three parts [\"Math & Science\", \"Warmth\", \"Care & Hunger\"]\n",
    "        if 'The' in j.split(): # this will split each of the catogory based on space \"Math & Science\"=> \"Math\",\"&\", \"Science\"\n",
    "            j=j.replace('The','') # if we have the words \"The\" we are going to replace it with ''(i.e removing 'The')\n",
    "        j = j.replace(' ','') # we are placeing all the ' '(space) with ''(empty) ex:\"Math & Science\"=>\"Math&Science\"\n",
    "        temp +=j.strip()+\" \"#\" abc \".strip() will return \"abc\", remove the trailing spaces\n",
    "        temp = temp.replace('&','_')\n",
    "    sub_cat_list.append(temp.strip())\n",
    "    \n",
    "project_data['clean_subcategories'] = sub_cat_list\n",
    "project_data.drop(['project_subject_subcategories'], axis=1, inplace=True)\n",
    "project_data.head(2)    \n",
    "    \n",
    "# count of all the words in corpus python: https://stackoverflow.com/a/22898595/4084039\n",
    "from collections import Counter\n",
    "my_counter = Counter()\n",
    "for word in project_data['clean_subcategories'].values:\n",
    "    my_counter.update(word.split())\n",
    "    \n",
    "# dict sort by value python: https://stackoverflow.com/a/613218/4084039\n",
    "sub_cat_dict = dict(my_counter)\n",
    "sorted_sub_cat_dict = dict(sorted(sub_cat_dict.items(), key=lambda kv: kv[1]))"
   ]
  },
  {
   "cell_type": "markdown",
   "metadata": {},
   "source": [
    "#### 1.3  Preprocessing Categorical Features: school_state"
   ]
  },
  {
   "cell_type": "code",
   "execution_count": 11,
   "metadata": {
    "scrolled": false
   },
   "outputs": [
    {
     "data": {
      "text/plain": [
       "ca    15388\n",
       "tx     7396\n",
       "ny     7318\n",
       "fl     6185\n",
       "nc     5091\n",
       "il     4350\n",
       "ga     3963\n",
       "sc     3936\n",
       "mi     3161\n",
       "pa     3109\n",
       "in     2620\n",
       "mo     2576\n",
       "oh     2467\n",
       "la     2394\n",
       "ma     2389\n",
       "wa     2334\n",
       "ok     2276\n",
       "nj     2237\n",
       "az     2147\n",
       "va     2045\n",
       "wi     1827\n",
       "al     1762\n",
       "ut     1731\n",
       "tn     1688\n",
       "ct     1663\n",
       "md     1514\n",
       "nv     1367\n",
       "ms     1323\n",
       "ky     1304\n",
       "or     1242\n",
       "mn     1208\n",
       "co     1111\n",
       "ar     1049\n",
       "id      693\n",
       "ia      666\n",
       "ks      634\n",
       "nm      557\n",
       "dc      516\n",
       "hi      507\n",
       "me      505\n",
       "wv      503\n",
       "nh      348\n",
       "ak      345\n",
       "de      343\n",
       "ne      309\n",
       "sd      300\n",
       "ri      285\n",
       "mt      245\n",
       "nd      143\n",
       "wy       98\n",
       "vt       80\n",
       "Name: school_state, dtype: int64"
      ]
     },
     "execution_count": 11,
     "metadata": {},
     "output_type": "execute_result"
    }
   ],
   "source": [
    "project_data['school_state'].value_counts()\n",
    "## Convert it to lower\n",
    "project_data['school_state'] = project_data['school_state'].str.lower()\n",
    "project_data['school_state'].value_counts()"
   ]
  },
  {
   "cell_type": "markdown",
   "metadata": {},
   "source": [
    "#### 1.4  Preprocessing Categorical Features: Teacher_prefix"
   ]
  },
  {
   "cell_type": "code",
   "execution_count": 12,
   "metadata": {
    "scrolled": true
   },
   "outputs": [
    {
     "name": "stdout",
     "output_type": "stream",
     "text": [
      "Mrs.       57269\n",
      "Ms.        38955\n",
      "Mr.        10648\n",
      "Teacher     2360\n",
      "Dr.           13\n",
      "Name: teacher_prefix, dtype: int64\n"
     ]
    }
   ],
   "source": [
    "print(project_data['teacher_prefix'].value_counts())\n",
    "# try to remove the dots from the teacher prefix\n",
    "project_data['teacher_prefix']=project_data['teacher_prefix'].fillna('Mrs.')\n",
    "project_data['teacher_prefix']=project_data['teacher_prefix'].str.replace('.','')\n",
    "project_data['teacher_prefix']=project_data['teacher_prefix'].str.lower()\n",
    "project_data['teacher_prefix']=project_data['teacher_prefix'].str.strip()"
   ]
  },
  {
   "cell_type": "markdown",
   "metadata": {},
   "source": [
    "#### 1.5  Combining all the essays"
   ]
  },
  {
   "cell_type": "code",
   "execution_count": 13,
   "metadata": {},
   "outputs": [],
   "source": [
    "# merge two column text dataframe: \n",
    "project_data[\"essay\"] = project_data[\"project_essay_1\"].map(str) +\\\n",
    "                        project_data[\"project_essay_2\"].map(str) + \\\n",
    "                        project_data[\"project_essay_3\"].map(str) + \\\n",
    "                        project_data[\"project_essay_4\"].map(str)"
   ]
  },
  {
   "cell_type": "markdown",
   "metadata": {},
   "source": [
    "#### 1.6  Number of Words in the Essay and Title"
   ]
  },
  {
   "cell_type": "code",
   "execution_count": 14,
   "metadata": {},
   "outputs": [],
   "source": [
    "source:''''https://www.geeksforgeeks.org/python-program-to-count-words-in-a-sentence/'''\n",
    "words_counter=[]\n",
    "for string in project_data['essay']:\n",
    "    res = len(re.findall(r'\\w+', string))\n",
    "    words_counter.append(res)\n",
    "    \n",
    "project_data[\"words_in_essay\"] = words_counter\n",
    "\n",
    "words_counter=[]\n",
    "\n",
    "for string in project_data['project_title']:\n",
    "    res = len(re.findall(r'\\w+', string))\n",
    "    words_counter.append(res)\n",
    "project_data[\"words_in_title\"] = words_counter    "
   ]
  },
  {
   "cell_type": "markdown",
   "metadata": {},
   "source": [
    "## 1.7. Preprocessing Numerical Values: price"
   ]
  },
  {
   "cell_type": "code",
   "execution_count": 15,
   "metadata": {},
   "outputs": [],
   "source": [
    "## calculate the overall count of resources and the total price for each project id \n",
    "price_data=resource_data.groupby('id').agg({'price':'sum','quantity':'sum' })"
   ]
  },
  {
   "cell_type": "code",
   "execution_count": 16,
   "metadata": {},
   "outputs": [],
   "source": [
    "project_data=pd.merge(project_data, price_data, on='id', how='left')"
   ]
  },
  {
   "cell_type": "markdown",
   "metadata": {},
   "source": [
    "## 1.8 Preprocessing Text Features: project_title"
   ]
  },
  {
   "cell_type": "code",
   "execution_count": 17,
   "metadata": {},
   "outputs": [],
   "source": [
    "# https://stackoverflow.com/a/47091490/4084039\n",
    "import re\n",
    "\n",
    "def decontracted(phrase):\n",
    "    # specific\n",
    "    phrase = re.sub(r\"won't\", \"will not\", phrase)\n",
    "    phrase = re.sub(r\"can\\'t\", \"can not\", phrase)\n",
    "\n",
    "    # general\n",
    "    phrase = re.sub(r\"n\\'t\", \" not\", phrase)\n",
    "    phrase = re.sub(r\"\\'re\", \" are\", phrase)\n",
    "    phrase = re.sub(r\"\\'s\", \" is\", phrase)\n",
    "    phrase = re.sub(r\"\\'d\", \" would\", phrase)\n",
    "    phrase = re.sub(r\"\\'ll\", \" will\", phrase)\n",
    "    phrase = re.sub(r\"\\'t\", \" not\", phrase)\n",
    "    phrase = re.sub(r\"\\'ve\", \" have\", phrase)\n",
    "    phrase = re.sub(r\"\\'m\", \" am\", phrase)\n",
    "    return phrase"
   ]
  },
  {
   "cell_type": "code",
   "execution_count": 18,
   "metadata": {},
   "outputs": [],
   "source": [
    "# https://gist.github.com/sebleier/554280\n",
    "# we are removing the words from the stop words list: 'no', 'nor', 'not'\n",
    "stopwords= ['i', 'me', 'my', 'myself', 'we', 'our', 'ours', 'ourselves', 'you', \"you're\", \"you've\",\\\n",
    "            \"you'll\", \"you'd\", 'your', 'yours', 'yourself', 'yourselves', 'he', 'him', 'his', 'himself', \\\n",
    "            'she', \"she's\", 'her', 'hers', 'herself', 'it', \"it's\", 'its', 'itself', 'they', 'them', 'their',\\\n",
    "            'theirs', 'themselves', 'what', 'which', 'who', 'whom', 'this', 'that', \"that'll\", 'these', 'those', \\\n",
    "            'am', 'is', 'are', 'was', 'were', 'be', 'been', 'being', 'have', 'has', 'had', 'having', 'do', 'does', \\\n",
    "            'did', 'doing', 'a', 'an', 'the', 'and', 'but', 'if', 'or', 'because', 'as', 'until', 'while', 'of', \\\n",
    "            'at', 'by', 'for', 'with', 'about', 'against', 'between', 'into', 'through', 'during', 'before', 'after',\\\n",
    "            'above', 'below', 'to', 'from', 'up', 'down', 'in', 'out', 'on', 'off', 'over', 'under', 'again', 'further',\\\n",
    "            'then', 'once', 'here', 'there', 'when', 'where', 'why', 'how', 'all', 'any', 'both', 'each', 'few', 'more',\\\n",
    "            'most', 'other', 'some', 'such', 'only', 'own', 'same', 'so', 'than', 'too', 'very', \\\n",
    "            's', 't', 'can', 'will', 'just', 'don', \"don't\", 'should', \"should've\", 'now', 'd', 'll', 'm', 'o', 're', \\\n",
    "            've', 'y', 'ain', 'aren', \"aren't\", 'couldn', \"couldn't\", 'didn', \"didn't\", 'doesn', \"doesn't\", 'hadn',\\\n",
    "            \"hadn't\", 'hasn', \"hasn't\", 'haven', \"haven't\", 'isn', \"isn't\", 'ma', 'mightn', \"mightn't\", 'mustn',\\\n",
    "            \"mustn't\", 'needn', \"needn't\", 'shan', \"shan't\", 'shouldn', \"shouldn't\", 'wasn', \"wasn't\", 'weren', \"weren't\", \\\n",
    "            'won', \"won't\", 'wouldn', \"wouldn't\"]"
   ]
  },
  {
   "cell_type": "code",
   "execution_count": 19,
   "metadata": {},
   "outputs": [
    {
     "data": {
      "text/plain": [
       "0     Educational Support for English Learners at Home\n",
       "1                Wanted: Projector for Hungry Learners\n",
       "2    Soccer Equipment for AWESOME Middle School Stu...\n",
       "3                               Techie Kindergarteners\n",
       "4                               Interactive Math Tools\n",
       "Name: project_title, dtype: object"
      ]
     },
     "execution_count": 19,
     "metadata": {},
     "output_type": "execute_result"
    }
   ],
   "source": [
    "project_data['project_title'].head(5)"
   ]
  },
  {
   "cell_type": "code",
   "execution_count": 20,
   "metadata": {},
   "outputs": [
    {
     "name": "stdout",
     "output_type": "stream",
     "text": [
      "printing some random reviews\n",
      "9 Just For the Love of Reading--\\r\\nPure Pleasure\n",
      "34 \\\"Have A Ball!!!\\\"\n",
      "147 Who needs a Chromebook?\\r\\nWE DO!!\n"
     ]
    }
   ],
   "source": [
    "print(\"printing some random reviews\")\n",
    "print(9, project_data['project_title'].values[9])\n",
    "print(34, project_data['project_title'].values[34])\n",
    "print(147, project_data['project_title'].values[147])"
   ]
  },
  {
   "cell_type": "code",
   "execution_count": 21,
   "metadata": {},
   "outputs": [],
   "source": [
    "# Combining all the above stundents \n",
    "from tqdm import tqdm\n",
    "def preprocess_text(text_data):\n",
    "    preprocessed_text = []\n",
    "    # tqdm is for printing the status bar\n",
    "    for sentance in tqdm(text_data):\n",
    "        sent = decontracted(sentance)\n",
    "        sent = sent.replace('\\\\r', ' ')\n",
    "        sent = sent.replace('\\\\n', ' ')\n",
    "        sent = sent.replace('\\\\\"', ' ')\n",
    "        sent = re.sub('[^A-Za-z0-9]+', ' ', sent)\n",
    "        # https://gist.github.com/sebleier/554280\n",
    "        sent = ' '.join(e for e in sent.split() if e.lower() not in stopwords)\n",
    "        preprocessed_text.append(sent.lower().strip())\n",
    "    return preprocessed_text"
   ]
  },
  {
   "cell_type": "code",
   "execution_count": 22,
   "metadata": {},
   "outputs": [
    {
     "name": "stderr",
     "output_type": "stream",
     "text": [
      "100%|███████████████████████████████████████████████████████████████████████| 109248/109248 [00:03<00:00, 36099.69it/s]\n"
     ]
    }
   ],
   "source": [
    "preprocessed_titles = preprocess_text(project_data['project_title'].values)"
   ]
  },
  {
   "cell_type": "code",
   "execution_count": 23,
   "metadata": {},
   "outputs": [
    {
     "name": "stdout",
     "output_type": "stream",
     "text": [
      "printing some random reviews\n",
      "9 love reading pure pleasure\n",
      "34 ball\n",
      "147 needs chromebook\n"
     ]
    }
   ],
   "source": [
    "print(\"printing some random reviews\")\n",
    "print(9, preprocessed_titles[9])\n",
    "print(34, preprocessed_titles[34])\n",
    "print(147, preprocessed_titles[147])\n",
    "#merge the column in the project_data\n",
    "project_data['processed_title']=preprocessed_titles"
   ]
  },
  {
   "cell_type": "markdown",
   "metadata": {},
   "source": [
    "# 1.9 Preprocessing Categorical Features: essay"
   ]
  },
  {
   "cell_type": "code",
   "execution_count": 24,
   "metadata": {},
   "outputs": [
    {
     "name": "stdout",
     "output_type": "stream",
     "text": [
      "printing some random essay\n",
      "9 Over 95% of my students are on free or reduced lunch.  I have a few who are homeless, but despite that, they come to school with an eagerness to learn.  My students are inquisitive eager learners who  embrace the challenge of not having great books and other resources  every day.  Many of them are not afforded the opportunity to engage with these big colorful pages of a book on a regular basis at home and they don't travel to the public library.  \\r\\nIt is my duty as a teacher to do all I can to provide each student an opportunity to succeed in every aspect of life. \\r\\nReading is Fundamental! My students will read these books over and over again while boosting their comprehension skills. These books will be used for read alouds, partner reading and for Independent reading. \\r\\nThey will engage in reading to build their \\\"Love for Reading\\\" by reading for pure enjoyment. They will be introduced to some new authors as well as some old favorites. I want my students to be ready for the 21st Century and know the pleasure of holding a good hard back book in hand. There's nothing like a good book to read!  \\r\\nMy students will soar in Reading, and more because of your consideration and generous funding contribution. This will help build stamina and prepare for 3rd grade. Thank you so much for reading our proposal!nannan\n",
      "--------------------------------------------------\n",
      "34 My students mainly come from extremely low-income families, and the majority of them come from homes where both parents work full time. Most of my students are at school from 7:30 am to 6:00 pm (2:30 to 6:00 pm in the after-school program), and they all receive free and reduced meals for breakfast and lunch. \\r\\n\\r\\n\\r\\nI want my students to feel  as comfortable in my classroom as they do at home. Many of my students take on multiple roles both at home as well as in school. They are sometimes the caretakers of younger siblings, cooks, babysitters, academics, friends, and most of all, they are developing who they are going to become as adults.  I consider it an essential part of my job to model helping others gain knowledge in a positive manner. As a result, I have a community of students who love helping each other in and outside of the classroom. They consistently look for opportunities to support each other's learning in a kind and helpful way.I am excited to be experimenting with alternative seating in my classroom this school year. Studies have shown that giving students the option of where they sit in a classroom increases focus as well as motivation.  \\r\\n\\r\\nBy allowing students choice in the classroom, they are able to explore and create in a welcoming environment. Alternative classroom seating has been experimented with more frequently in recent years. I believe (along with many others), that every child learns differently. This does not only apply to how multiplication is memorized, or a paper is written, but applies to the space in which they are asked to work. I have had students in the past ask \\\"Can I work in the library? Can I work on the carpet?\\\" My answer was always, \\\"As long as you're learning, you can work wherever you want!\\\" \\r\\n\\r\\nWith the yoga balls and the lap-desks, I will be able to increase the options for seating in my classroom and expand its imaginable space.nannan\n",
      "--------------------------------------------------\n",
      "147 My students are eager to learn and make their mark on the world.\\r\\n\\r\\nThey come from a Title 1 school and need extra love.\\r\\n\\r\\nMy fourth grade students are in a high poverty area and still come to school every day to get their education. I am trying to make it fun and educational for them so they can get the most out of their schooling. I created a caring environment for the students to bloom! They deserve the best.\\r\\nThank you!\\r\\nI am requesting 1 Chromebook to access online interventions, differentiate instruction, and get extra practice. The Chromebook will be used to supplement ELA and math instruction. Students will play ELA and math games that are engaging and fun, as well as participate in assignments online. This in turn will help my students improve their skills. Having a Chromebook in the classroom would not only allow students to use the programs at their own pace, but would ensure more students are getting adequate time to use the programs. The online programs have been especially beneficial to my students with special needs. They are able to work at their level as well as be challenged with some different materials. This is making these students more confident in their abilities.\\r\\n\\r\\nThe Chromebook would allow my students to have daily access to computers and increase their computing skills.\\r\\nThis will change their lives for the better as they become more successful in school. Having access to technology in the classroom would help bridge the achievement gap.nannan\n"
     ]
    }
   ],
   "source": [
    "print(\"printing some random essay\")\n",
    "print(9, project_data['essay'].values[9])\n",
    "print('-'*50)\n",
    "print(34, project_data['essay'].values[34])\n",
    "print('-'*50)\n",
    "print(147, project_data['essay'].values[147])"
   ]
  },
  {
   "cell_type": "code",
   "execution_count": 25,
   "metadata": {},
   "outputs": [
    {
     "name": "stderr",
     "output_type": "stream",
     "text": [
      "100%|████████████████████████████████████████████████████████████████████████| 109248/109248 [01:13<00:00, 1488.95it/s]\n"
     ]
    }
   ],
   "source": [
    "preprocessed_essays = preprocess_text(project_data['essay'].values)"
   ]
  },
  {
   "cell_type": "code",
   "execution_count": 26,
   "metadata": {},
   "outputs": [
    {
     "name": "stdout",
     "output_type": "stream",
     "text": [
      "printing some random essay\n",
      "9 95 students free reduced lunch homeless despite come school eagerness learn students inquisitive eager learners embrace challenge not great books resources every day many not afforded opportunity engage big colorful pages book regular basis home not travel public library duty teacher provide student opportunity succeed every aspect life reading fundamental students read books boosting comprehension skills books used read alouds partner reading independent reading engage reading build love reading reading pure enjoyment introduced new authors well old favorites want students ready 21st century know pleasure holding good hard back book hand nothing like good book read students soar reading consideration generous funding contribution help build stamina prepare 3rd grade thank much reading proposal nannan\n",
      "--------------------------------------------------\n",
      "34 students mainly come extremely low income families majority come homes parents work full time students school 7 30 6 00 pm 2 30 6 00 pm school program receive free reduced meals breakfast lunch want students feel comfortable classroom home many students take multiple roles home well school sometimes caretakers younger siblings cooks babysitters academics friends developing going become adults consider essential part job model helping others gain knowledge positive manner result community students love helping outside classroom consistently look opportunities support learning kind helpful way excited experimenting alternative seating classroom school year studies shown giving students option sit classroom increases focus well motivation allowing students choice classroom able explore create welcoming environment alternative classroom seating experimented frequently recent years believe along many others every child learns differently not apply multiplication memorized paper written applies space asked work students past ask work library work carpet answer always long learning work wherever want yoga balls lap desks able increase options seating classroom expand imaginable space nannan\n",
      "--------------------------------------------------\n",
      "147 students eager learn make mark world come title 1 school need extra love fourth grade students high poverty area still come school every day get education trying make fun educational get schooling created caring environment students bloom deserve best thank requesting 1 chromebook access online interventions differentiate instruction get extra practice chromebook used supplement ela math instruction students play ela math games engaging fun well participate assignments online turn help students improve skills chromebook classroom would not allow students use programs pace would ensure students getting adequate time use programs online programs especially beneficial students special needs able work level well challenged different materials making students confident abilities chromebook would allow students daily access computers increase computing skills change lives better become successful school access technology classroom would help bridge achievement gap nannan\n"
     ]
    }
   ],
   "source": [
    "print(\"printing some random essay\")\n",
    "print(9, preprocessed_essays[9])\n",
    "print('-'*50)\n",
    "print(34, preprocessed_essays[34])\n",
    "print('-'*50)\n",
    "print(147, preprocessed_essays[147])\n",
    "\n",
    "#merge the column in the project_data\n",
    "project_data['processed_essay']=preprocessed_essays"
   ]
  },
  {
   "cell_type": "markdown",
   "metadata": {},
   "source": [
    "## Train,Test,CV Split"
   ]
  },
  {
   "cell_type": "code",
   "execution_count": 27,
   "metadata": {},
   "outputs": [],
   "source": [
    "# train test split using sklearn.model selection\n",
    "from sklearn.model_selection import train_test_split\n",
    "X_train, X_test, y_train, y_test = train_test_split(project_data, project_data['project_is_approved'], test_size=0.33, stratify = project_data['project_is_approved'],random_state=0)\n",
    "X_train, X_cv, y_train, y_cv = train_test_split(X_train, y_train, test_size=0.33, stratify=y_train,random_state=0)"
   ]
  },
  {
   "cell_type": "code",
   "execution_count": 28,
   "metadata": {},
   "outputs": [],
   "source": [
    "## drop the y labels from splits\n",
    "X_train.drop(['project_is_approved'], axis=1, inplace=True)\n",
    "X_test.drop(['project_is_approved'], axis=1, inplace=True)\n",
    "X_cv.drop(['project_is_approved'], axis=1, inplace=True)"
   ]
  },
  {
   "cell_type": "code",
   "execution_count": 29,
   "metadata": {
    "scrolled": true
   },
   "outputs": [
    {
     "data": {
      "text/html": [
       "<div>\n",
       "<style scoped>\n",
       "    .dataframe tbody tr th:only-of-type {\n",
       "        vertical-align: middle;\n",
       "    }\n",
       "\n",
       "    .dataframe tbody tr th {\n",
       "        vertical-align: top;\n",
       "    }\n",
       "\n",
       "    .dataframe thead th {\n",
       "        text-align: right;\n",
       "    }\n",
       "</style>\n",
       "<table border=\"1\" class=\"dataframe\">\n",
       "  <thead>\n",
       "    <tr style=\"text-align: right;\">\n",
       "      <th></th>\n",
       "      <th>Unnamed: 0</th>\n",
       "      <th>id</th>\n",
       "      <th>teacher_id</th>\n",
       "      <th>teacher_prefix</th>\n",
       "      <th>school_state</th>\n",
       "      <th>project_submitted_datetime</th>\n",
       "      <th>project_grade_category</th>\n",
       "      <th>project_title</th>\n",
       "      <th>project_essay_1</th>\n",
       "      <th>project_essay_2</th>\n",
       "      <th>...</th>\n",
       "      <th>teacher_number_of_previously_posted_projects</th>\n",
       "      <th>clean_categories</th>\n",
       "      <th>clean_subcategories</th>\n",
       "      <th>essay</th>\n",
       "      <th>words_in_essay</th>\n",
       "      <th>words_in_title</th>\n",
       "      <th>price</th>\n",
       "      <th>quantity</th>\n",
       "      <th>processed_title</th>\n",
       "      <th>processed_essay</th>\n",
       "    </tr>\n",
       "  </thead>\n",
       "  <tbody>\n",
       "    <tr>\n",
       "      <th>75742</th>\n",
       "      <td>118221</td>\n",
       "      <td>p186156</td>\n",
       "      <td>f50f55a2b44b65b54f38f03c5df21922</td>\n",
       "      <td>mrs</td>\n",
       "      <td>tx</td>\n",
       "      <td>2017-03-01 16:21:46</td>\n",
       "      <td>9_12</td>\n",
       "      <td>I-Waste:  a Multi-Media Art Installation on El...</td>\n",
       "      <td>My students are creative human beings.  They a...</td>\n",
       "      <td>It's no secret that the arts are underfunded i...</td>\n",
       "      <td>...</td>\n",
       "      <td>0</td>\n",
       "      <td>Music_Arts</td>\n",
       "      <td>VisualArts</td>\n",
       "      <td>My students are creative human beings.  They a...</td>\n",
       "      <td>241</td>\n",
       "      <td>10</td>\n",
       "      <td>945.90</td>\n",
       "      <td>5</td>\n",
       "      <td>waste multi media art installation electronic ...</td>\n",
       "      <td>students creative human beings sculpture ceram...</td>\n",
       "    </tr>\n",
       "    <tr>\n",
       "      <th>61001</th>\n",
       "      <td>57644</td>\n",
       "      <td>p180433</td>\n",
       "      <td>9e0fb5827f551d7e6966f8b3985e387b</td>\n",
       "      <td>ms</td>\n",
       "      <td>ny</td>\n",
       "      <td>2017-03-09 10:19:06</td>\n",
       "      <td>6_8</td>\n",
       "      <td>Authentic Listening and Speaking Activities fo...</td>\n",
       "      <td>The Hyde Park Central School District is locat...</td>\n",
       "      <td>One area my students struggle the most with is...</td>\n",
       "      <td>...</td>\n",
       "      <td>0</td>\n",
       "      <td>Literacy_Language</td>\n",
       "      <td>ForeignLanguages</td>\n",
       "      <td>The Hyde Park Central School District is locat...</td>\n",
       "      <td>254</td>\n",
       "      <td>10</td>\n",
       "      <td>100.63</td>\n",
       "      <td>35</td>\n",
       "      <td>authentic listening speaking activities world ...</td>\n",
       "      <td>hyde park central school district located nort...</td>\n",
       "    </tr>\n",
       "  </tbody>\n",
       "</table>\n",
       "<p>2 rows × 23 columns</p>\n",
       "</div>"
      ],
      "text/plain": [
       "       Unnamed: 0       id                        teacher_id teacher_prefix  \\\n",
       "75742      118221  p186156  f50f55a2b44b65b54f38f03c5df21922            mrs   \n",
       "61001       57644  p180433  9e0fb5827f551d7e6966f8b3985e387b             ms   \n",
       "\n",
       "      school_state project_submitted_datetime project_grade_category  \\\n",
       "75742           tx        2017-03-01 16:21:46                   9_12   \n",
       "61001           ny        2017-03-09 10:19:06                    6_8   \n",
       "\n",
       "                                           project_title  \\\n",
       "75742  I-Waste:  a Multi-Media Art Installation on El...   \n",
       "61001  Authentic Listening and Speaking Activities fo...   \n",
       "\n",
       "                                         project_essay_1  \\\n",
       "75742  My students are creative human beings.  They a...   \n",
       "61001  The Hyde Park Central School District is locat...   \n",
       "\n",
       "                                         project_essay_2  ...  \\\n",
       "75742  It's no secret that the arts are underfunded i...  ...   \n",
       "61001  One area my students struggle the most with is...  ...   \n",
       "\n",
       "      teacher_number_of_previously_posted_projects   clean_categories  \\\n",
       "75742                                            0         Music_Arts   \n",
       "61001                                            0  Literacy_Language   \n",
       "\n",
       "      clean_subcategories                                              essay  \\\n",
       "75742          VisualArts  My students are creative human beings.  They a...   \n",
       "61001    ForeignLanguages  The Hyde Park Central School District is locat...   \n",
       "\n",
       "      words_in_essay words_in_title   price  quantity  \\\n",
       "75742            241             10  945.90         5   \n",
       "61001            254             10  100.63        35   \n",
       "\n",
       "                                         processed_title  \\\n",
       "75742  waste multi media art installation electronic ...   \n",
       "61001  authentic listening speaking activities world ...   \n",
       "\n",
       "                                         processed_essay  \n",
       "75742  students creative human beings sculpture ceram...  \n",
       "61001  hyde park central school district located nort...  \n",
       "\n",
       "[2 rows x 23 columns]"
      ]
     },
     "execution_count": 29,
     "metadata": {},
     "output_type": "execute_result"
    }
   ],
   "source": [
    "X_train.head(2)"
   ]
  },
  {
   "cell_type": "markdown",
   "metadata": {},
   "source": [
    "### VECTORIZING DATA"
   ]
  },
  {
   "cell_type": "markdown",
   "metadata": {},
   "source": [
    "### One hot encoding on Categorical"
   ]
  },
  {
   "cell_type": "code",
   "execution_count": 30,
   "metadata": {},
   "outputs": [
    {
     "name": "stdout",
     "output_type": "stream",
     "text": [
      "['AppliedLearning', 'Care_Hunger', 'Health_Sports', 'History_Civics', 'Literacy_Language', 'Math_Science', 'Music_Arts', 'SpecialNeeds', 'Warmth']\n",
      "Shape of matrix of Train data after one hot encoding  (49041, 9)\n",
      "Shape of matrix of Test data after one hot encoding  (36052, 9)\n",
      "Shape of matrix of CV data after one hot encoding  (24155, 9)\n"
     ]
    }
   ],
   "source": [
    "# we use count vectorizer to convert the values into one hot vectors \n",
    "## clean categories\n",
    "from sklearn.feature_extraction.text import CountVectorizer\n",
    "\n",
    "cat_vectorize = CountVectorizer(lowercase=False, binary=True)\n",
    "cat_vectorize.fit(X_train['clean_categories'].values)\n",
    "\n",
    "train_categories = cat_vectorize.transform(X_train['clean_categories'].values)\n",
    "test_categories = cat_vectorize.transform(X_test['clean_categories'].values)\n",
    "cv_categories = cat_vectorize.transform(X_cv['clean_categories'].values)\n",
    "\n",
    "print(cat_vectorize.get_feature_names())\n",
    "print(\"Shape of matrix of Train data after one hot encoding \",train_categories.shape)\n",
    "print(\"Shape of matrix of Test data after one hot encoding \",test_categories.shape)\n",
    "print(\"Shape of matrix of CV data after one hot encoding \",cv_categories.shape)"
   ]
  },
  {
   "cell_type": "code",
   "execution_count": 31,
   "metadata": {},
   "outputs": [
    {
     "name": "stdout",
     "output_type": "stream",
     "text": [
      "['AppliedSciences', 'Care_Hunger', 'CharacterEducation', 'Civics_Government', 'College_CareerPrep', 'CommunityService', 'ESL', 'EarlyDevelopment', 'Economics', 'EnvironmentalScience', 'Extracurricular', 'FinancialLiteracy', 'ForeignLanguages', 'Gym_Fitness', 'Health_LifeScience', 'Health_Wellness', 'History_Geography', 'Literacy', 'Literature_Writing', 'Mathematics', 'Music', 'NutritionEducation', 'Other', 'ParentInvolvement', 'PerformingArts', 'SocialSciences', 'SpecialNeeds', 'TeamSports', 'VisualArts', 'Warmth']\n",
      "Shape of matrix of Train data after one hot encoding  (49041, 30)\n",
      "Shape of matrix of Test data after one hot encoding  (36052, 30)\n",
      "Shape of matrix of CV data after one hot encoding  (24155, 30)\n"
     ]
    }
   ],
   "source": [
    "# we use count vectorizer to convert the values into one hot vectors \n",
    "## clean subcategories\n",
    "from sklearn.feature_extraction.text import CountVectorizer\n",
    "\n",
    "subcat_vectorize = CountVectorizer(lowercase=False, binary=True)\n",
    "subcat_vectorize.fit(X_train['clean_subcategories'].values)\n",
    "\n",
    "train_subcategories = subcat_vectorize.transform(X_train['clean_subcategories'].values)\n",
    "test_subcategories = subcat_vectorize.transform(X_test['clean_subcategories'].values)\n",
    "cv_subcategories = subcat_vectorize.transform(X_cv['clean_subcategories'].values)\n",
    "\n",
    "print(subcat_vectorize.get_feature_names())\n",
    "print(\"Shape of matrix of Train data after one hot encoding \",train_subcategories.shape)\n",
    "print(\"Shape of matrix of Test data after one hot encoding \",test_subcategories.shape)\n",
    "print(\"Shape of matrix of CV data after one hot encoding \",cv_subcategories.shape)\n"
   ]
  },
  {
   "cell_type": "code",
   "execution_count": 32,
   "metadata": {
    "scrolled": true
   },
   "outputs": [
    {
     "name": "stdout",
     "output_type": "stream",
     "text": [
      "['ak', 'al', 'ar', 'az', 'ca', 'co', 'ct', 'dc', 'de', 'fl', 'ga', 'hi', 'ia', 'id', 'il', 'in', 'ks', 'ky', 'la', 'ma', 'md', 'me', 'mi', 'mn', 'mo', 'ms', 'mt', 'nc', 'nd', 'ne', 'nh', 'nj', 'nm', 'nv', 'ny', 'oh', 'ok', 'or', 'pa', 'ri', 'sc', 'sd', 'tn', 'tx', 'ut', 'va', 'vt', 'wa', 'wi', 'wv', 'wy']\n",
      "Shape of matrix of Train data after one hot encoding  (49041, 51)\n",
      "Shape of matrix of Test data after one hot encoding  (36052, 51)\n",
      "Shape of matrix of CV data after one hot encoding  (24155, 51)\n"
     ]
    }
   ],
   "source": [
    "# we use count vectorizer to convert the values into one hot vectors \n",
    "##  school state\n",
    "from sklearn.feature_extraction.text import CountVectorizer\n",
    "\n",
    "sklstate_vectorize = CountVectorizer(lowercase=False, binary=True)\n",
    "sklstate_vectorize.fit(X_train['school_state'].values)\n",
    "\n",
    "sklstate_train = sklstate_vectorize.transform(X_train['school_state'].values)\n",
    "sklstate_test = sklstate_vectorize.transform(X_test['school_state'].values)\n",
    "sklstate_cv = sklstate_vectorize.transform(X_cv['school_state'].values)\n",
    "\n",
    "print(sklstate_vectorize.get_feature_names())\n",
    "print(\"Shape of matrix of Train data after one hot encoding \",sklstate_train.shape)\n",
    "print(\"Shape of matrix of Test data after one hot encoding \",sklstate_test.shape)\n",
    "print(\"Shape of matrix of CV data after one hot encoding \",sklstate_cv.shape)"
   ]
  },
  {
   "cell_type": "code",
   "execution_count": 33,
   "metadata": {},
   "outputs": [
    {
     "name": "stdout",
     "output_type": "stream",
     "text": [
      "['dr', 'mr', 'mrs', 'ms', 'teacher']\n",
      "Shape of matrix of Train data after one hot encoding  (49041, 5)\n",
      "Shape of matrix of Test data after one hot encoding  (36052, 5)\n",
      "Shape of matrix of CV data after one hot encoding  (24155, 5)\n"
     ]
    }
   ],
   "source": [
    "# we use count vectorizer to convert the values into one hot vectors \n",
    "## teacher_prefix\n",
    "from sklearn.feature_extraction.text import CountVectorizer\n",
    "\n",
    "teacher_prefix_vectorize = CountVectorizer(lowercase=False, binary=True)\n",
    "teacher_prefix_vectorize.fit(X_train['teacher_prefix'].values)\n",
    "\n",
    "teacher_prefix_train = teacher_prefix_vectorize.transform(X_train['teacher_prefix'].values)\n",
    "teacher_prefix_test = teacher_prefix_vectorize.transform(X_test['teacher_prefix'].values)\n",
    "teacher_prefix_cv = teacher_prefix_vectorize.transform(X_cv['teacher_prefix'].values)\n",
    "\n",
    "print(teacher_prefix_vectorize.get_feature_names())\n",
    "print(\"Shape of matrix of Train data after one hot encoding \",teacher_prefix_train.shape)\n",
    "print(\"Shape of matrix of Test data after one hot encoding \",teacher_prefix_test.shape)\n",
    "print(\"Shape of matrix of CV data after one hot encoding \",teacher_prefix_cv.shape)"
   ]
  },
  {
   "cell_type": "code",
   "execution_count": 34,
   "metadata": {},
   "outputs": [
    {
     "name": "stdout",
     "output_type": "stream",
     "text": [
      "['dr', 'mr', 'mrs', 'ms', 'teacher']\n",
      "Shape of matrix of Train data after one hot encoding  (49041, 5)\n",
      "Shape of matrix of Test data after one hot encoding  (36052, 5)\n",
      "Shape of matrix of CV data after one hot encoding  (24155, 5)\n"
     ]
    }
   ],
   "source": [
    "# we use count vectorizer to convert the values into one hot vectors \n",
    "## project_grade\n",
    "from sklearn.feature_extraction.text import CountVectorizer\n",
    "\n",
    "proj_grade_vectorize = CountVectorizer(lowercase=False, binary=True)\n",
    "proj_grade_vectorize.fit(X_train['teacher_prefix'].values)\n",
    "\n",
    "proj_grade_train = proj_grade_vectorize.transform(X_train['teacher_prefix'].values)\n",
    "proj_grade_test = proj_grade_vectorize.transform(X_test['teacher_prefix'].values)\n",
    "proj_grade_cv = proj_grade_vectorize.transform(X_cv['teacher_prefix'].values)\n",
    "\n",
    "print(proj_grade_vectorize.get_feature_names())\n",
    "print(\"Shape of matrix of Train data after one hot encoding \",proj_grade_train.shape)\n",
    "print(\"Shape of matrix of Test data after one hot encoding \",proj_grade_test.shape)\n",
    "print(\"Shape of matrix of CV data after one hot encoding \",proj_grade_cv.shape)"
   ]
  },
  {
   "cell_type": "markdown",
   "metadata": {},
   "source": [
    "## Vectorizing Text data"
   ]
  },
  {
   "cell_type": "markdown",
   "metadata": {},
   "source": [
    "#### A. BOW on Essay"
   ]
  },
  {
   "cell_type": "markdown",
   "metadata": {},
   "source": [
    "##### Train data"
   ]
  },
  {
   "cell_type": "code",
   "execution_count": 35,
   "metadata": {},
   "outputs": [
    {
     "name": "stdout",
     "output_type": "stream",
     "text": [
      "Shape of matrix after one hot encoding  (49041, 5000)\n"
     ]
    }
   ],
   "source": [
    " ##Considering the words that appeared in atleast 10 documents \n",
    "\n",
    "bow_essay = CountVectorizer(min_df=10,max_features=5000)  \n",
    "bow_essay.fit(X_train['processed_essay'])\n",
    "\n",
    "bow_essay_train = bow_essay.transform(X_train['processed_essay'])\n",
    "\n",
    "print(\"Shape of matrix after one hot encoding \",bow_essay_train.shape)   "
   ]
  },
  {
   "cell_type": "markdown",
   "metadata": {},
   "source": [
    "##### Test data"
   ]
  },
  {
   "cell_type": "code",
   "execution_count": 36,
   "metadata": {
    "scrolled": true
   },
   "outputs": [
    {
     "name": "stdout",
     "output_type": "stream",
     "text": [
      "Shape of matrix after one hot encoding  (36052, 5000)\n"
     ]
    }
   ],
   "source": [
    "\n",
    "bow_essay_test = bow_essay.transform(X_test['processed_essay'])\n",
    "\n",
    "print(\"Shape of matrix after one hot encoding \",bow_essay_test.shape)  "
   ]
  },
  {
   "cell_type": "markdown",
   "metadata": {},
   "source": [
    "##### CV data"
   ]
  },
  {
   "cell_type": "code",
   "execution_count": 37,
   "metadata": {},
   "outputs": [
    {
     "name": "stdout",
     "output_type": "stream",
     "text": [
      "Shape of matrix after one hot encoding  (24155, 5000)\n"
     ]
    }
   ],
   "source": [
    "bow_essay_cv = bow_essay.transform(X_cv['processed_essay'])\n",
    "print(\"Shape of matrix after one hot encoding \",bow_essay_cv.shape)  "
   ]
  },
  {
   "cell_type": "markdown",
   "metadata": {},
   "source": [
    "#### A. BOW on Titles"
   ]
  },
  {
   "cell_type": "markdown",
   "metadata": {},
   "source": [
    "##### Train data "
   ]
  },
  {
   "cell_type": "code",
   "execution_count": 38,
   "metadata": {},
   "outputs": [
    {
     "name": "stdout",
     "output_type": "stream",
     "text": [
      "Shape of matrix after one hot encoding  (49041, 2008)\n"
     ]
    }
   ],
   "source": [
    " ##Considering the words that appeared in atleast 10 documents \n",
    "\n",
    "bowtitle = CountVectorizer(min_df=10)  \n",
    "bowtitle.fit(X_train['processed_title'])\n",
    "\n",
    "bow_title_train = bowtitle.transform(X_train['processed_title'])\n",
    "\n",
    "print(\"Shape of matrix after one hot encoding \",bow_title_train.shape)   "
   ]
  },
  {
   "cell_type": "markdown",
   "metadata": {},
   "source": [
    "##### Test data "
   ]
  },
  {
   "cell_type": "code",
   "execution_count": 39,
   "metadata": {},
   "outputs": [
    {
     "name": "stdout",
     "output_type": "stream",
     "text": [
      "Shape of matrix after one hot encoding  (36052, 2008)\n"
     ]
    }
   ],
   "source": [
    " ##Considering the words that appeared in atleast 10 documents \n",
    "\n",
    "\n",
    "bow_title_test = bowtitle.transform(X_test['processed_title'])\n",
    "\n",
    "print(\"Shape of matrix after one hot encoding \",bow_title_test.shape)   "
   ]
  },
  {
   "cell_type": "markdown",
   "metadata": {},
   "source": [
    "##### CV data "
   ]
  },
  {
   "cell_type": "code",
   "execution_count": 40,
   "metadata": {},
   "outputs": [
    {
     "name": "stdout",
     "output_type": "stream",
     "text": [
      "Shape of matrix after one hot encoding  (24155, 2008)\n"
     ]
    }
   ],
   "source": [
    " ##Considering the words that appeared in atleast 10 documents \n",
    "\n",
    "bow_title_cv = bowtitle.transform(X_cv['processed_title'])\n",
    "\n",
    "print(\"Shape of matrix after one hot encoding \",bow_title_cv.shape)   "
   ]
  },
  {
   "cell_type": "markdown",
   "metadata": {},
   "source": [
    "#### A. TFIDF on Essay"
   ]
  },
  {
   "cell_type": "markdown",
   "metadata": {},
   "source": [
    "##### Train data"
   ]
  },
  {
   "cell_type": "code",
   "execution_count": 41,
   "metadata": {},
   "outputs": [
    {
     "name": "stdout",
     "output_type": "stream",
     "text": [
      "Shape of matrix after one hot encoding  (49041, 5000)\n"
     ]
    }
   ],
   "source": [
    " ##Considering the words that appeared in atleast 10 documents \n",
    "\n",
    "tfidf_essay = TfidfVectorizer(min_df=10,max_features=5000)  #selecting top 5000 features\n",
    "tfidf_essay.fit(X_train['processed_essay'])\n",
    "\n",
    "tfidf_essay_train = tfidf_essay.transform(X_train['processed_essay'])\n",
    "\n",
    "print(\"Shape of matrix after one hot encoding \",tfidf_essay_train.shape)   "
   ]
  },
  {
   "cell_type": "markdown",
   "metadata": {},
   "source": [
    "##### Test data"
   ]
  },
  {
   "cell_type": "code",
   "execution_count": 42,
   "metadata": {
    "scrolled": true
   },
   "outputs": [
    {
     "name": "stdout",
     "output_type": "stream",
     "text": [
      "Shape of matrix after one hot encoding  (36052, 5000)\n"
     ]
    }
   ],
   "source": [
    "\n",
    "tfidf_essay_test = tfidf_essay.transform(X_test['processed_essay'])\n",
    "\n",
    "print(\"Shape of matrix after one hot encoding \",tfidf_essay_test.shape)  "
   ]
  },
  {
   "cell_type": "markdown",
   "metadata": {},
   "source": [
    "##### CV data"
   ]
  },
  {
   "cell_type": "code",
   "execution_count": 43,
   "metadata": {},
   "outputs": [
    {
     "name": "stdout",
     "output_type": "stream",
     "text": [
      "Shape of matrix after one hot encoding  (24155, 5000)\n"
     ]
    }
   ],
   "source": [
    "\n",
    "\n",
    "tfidf_essay_cv = tfidf_essay.transform(X_cv['processed_essay'])\n",
    "\n",
    "print(\"Shape of matrix after one hot encoding \",tfidf_essay_cv.shape)  "
   ]
  },
  {
   "cell_type": "markdown",
   "metadata": {},
   "source": [
    "#### A. TFIDF on Titles"
   ]
  },
  {
   "cell_type": "markdown",
   "metadata": {},
   "source": [
    "##### Train data "
   ]
  },
  {
   "cell_type": "code",
   "execution_count": 44,
   "metadata": {},
   "outputs": [
    {
     "name": "stdout",
     "output_type": "stream",
     "text": [
      "Shape of matrix after one hot encoding  (49041, 2008)\n"
     ]
    }
   ],
   "source": [
    " ##Considering the words that appeared in atleast 10 documents \n",
    "\n",
    "tfidftitle = TfidfVectorizer(min_df=10)  \n",
    "tfidftitle.fit(X_train['processed_title'])\n",
    "\n",
    "tfidf_title_train = tfidftitle.transform(X_train['processed_title'])\n",
    "\n",
    "print(\"Shape of matrix after one hot encoding \",tfidf_title_train.shape)   "
   ]
  },
  {
   "cell_type": "markdown",
   "metadata": {},
   "source": [
    "##### Test data "
   ]
  },
  {
   "cell_type": "code",
   "execution_count": 45,
   "metadata": {},
   "outputs": [
    {
     "name": "stdout",
     "output_type": "stream",
     "text": [
      "Shape of matrix after one hot encoding  (36052, 2008)\n"
     ]
    }
   ],
   "source": [
    " ##Considering the words that appeared in atleast 10 documents \n",
    "\n",
    "tfidf_title_test = tfidftitle.transform(X_test['processed_title'])\n",
    "\n",
    "print(\"Shape of matrix after one hot encoding \",tfidf_title_test.shape)   "
   ]
  },
  {
   "cell_type": "markdown",
   "metadata": {},
   "source": [
    "##### CV data "
   ]
  },
  {
   "cell_type": "code",
   "execution_count": 46,
   "metadata": {},
   "outputs": [
    {
     "name": "stdout",
     "output_type": "stream",
     "text": [
      "Shape of matrix after one hot encoding  (24155, 2008)\n"
     ]
    }
   ],
   "source": [
    " ##Considering the words that appeared in atleast 10 documents \n",
    "\n",
    "tfidf_title_cv = tfidftitle.transform(X_cv['processed_title'])\n",
    "\n",
    "print(\"Shape of matrix after one hot encoding \",tfidf_title_cv.shape)   "
   ]
  },
  {
   "cell_type": "markdown",
   "metadata": {},
   "source": []
  },
  {
   "cell_type": "markdown",
   "metadata": {},
   "source": [
    "### Vectorizing Numerical Features"
   ]
  },
  {
   "cell_type": "markdown",
   "metadata": {},
   "source": [
    "### Price"
   ]
  },
  {
   "cell_type": "code",
   "execution_count": 47,
   "metadata": {},
   "outputs": [
    {
     "name": "stdout",
     "output_type": "stream",
     "text": [
      "After vectorizations\n",
      "(1, 49041) (49041,)\n",
      "(1, 24155) (24155,)\n",
      "(1, 36052) (36052,)\n",
      "====================================================================================================\n"
     ]
    }
   ],
   "source": [
    "normalizer = Normalizer()\n",
    "# normalizer.fit(X_train['price'].values)\n",
    "# this will rise an error Expected 2D array, got 1D array instead: \n",
    "# array=[105.22 215.96  96.01 ... 368.98  80.53 709.67].\n",
    "# Reshape your data either using \n",
    "# array.reshape(-1, 1) if your data has a single feature \n",
    "# array.reshape(1, -1)  if it contains a single sample.\n",
    "normalizer.fit(X_train['price'].values.reshape(1,-1))\n",
    "\n",
    "X_train_price_norm = normalizer.transform(X_train['price'].values.reshape(1,-1))\n",
    "X_cv_price_norm = normalizer.transform(X_cv['price'].values.reshape(1,-1))\n",
    "X_test_price_norm = normalizer.transform(X_test['price'].values.reshape(1,-1))\n",
    "\n",
    "print(\"After vectorizations\")\n",
    "print(X_train_price_norm.shape, y_train.shape)\n",
    "print(X_cv_price_norm.shape, y_cv.shape)\n",
    "print(X_test_price_norm.shape, y_test.shape)\n",
    "print(\"=\"*100)\n",
    "\n",
    "## reshaping \n",
    "X_train_price_norm=X_train_price_norm.reshape(-1,1)\n",
    "X_cv_price_norm=X_cv_price_norm.reshape(-1,1)\n",
    "X_test_price_norm=X_test_price_norm.reshape(-1,1)"
   ]
  },
  {
   "cell_type": "markdown",
   "metadata": {},
   "source": [
    "#### Quantity"
   ]
  },
  {
   "cell_type": "code",
   "execution_count": 48,
   "metadata": {},
   "outputs": [
    {
     "name": "stdout",
     "output_type": "stream",
     "text": [
      "After vectorizations\n",
      "(1, 49041) (49041,)\n",
      "(1, 24155) (24155,)\n",
      "(1, 36052) (36052,)\n",
      "====================================================================================================\n"
     ]
    }
   ],
   "source": [
    "\n",
    "normalizer = Normalizer()\n",
    "\n",
    "# normalizer.fit(X_train['price'].values)\n",
    "# this will rise an error Expected 2D array, got 1D array instead: \n",
    "# array=[105.22 215.96  96.01 ... 368.98  80.53 709.67].\n",
    "# Reshape your data either using \n",
    "# array.reshape(-1, 1) if your data has a single feature \n",
    "# array.reshape(1, -1)  if it contains a single sample.\n",
    "\n",
    "normalizer.fit(X_train['quantity'].values.reshape(1,-1))\n",
    "\n",
    "quantity_train_norm = normalizer.transform(X_train['quantity'].values.reshape(1,-1))\n",
    "quantity_cv_norm = normalizer.transform(X_cv['quantity'].values.reshape(1,-1))\n",
    "quantity_test_norm = normalizer.transform(X_test['quantity'].values.reshape(1,-1))\n",
    "\n",
    "print(\"After vectorizations\")\n",
    "print(quantity_train_norm.shape, y_train.shape)\n",
    "print(quantity_cv_norm.shape, y_cv.shape)\n",
    "print(quantity_test_norm.shape, y_test.shape)\n",
    "print(\"=\"*100)\n",
    "\n",
    "## reshaping \n",
    "quantity_train_norm=quantity_train_norm.reshape(-1,1)\n",
    "quantity_cv_norm=quantity_cv_norm.reshape(-1,1)\n",
    "quantity_test_norm=quantity_test_norm.reshape(-1,1)"
   ]
  },
  {
   "cell_type": "markdown",
   "metadata": {},
   "source": [
    "### Number of Previously posted projects"
   ]
  },
  {
   "cell_type": "code",
   "execution_count": 49,
   "metadata": {},
   "outputs": [
    {
     "name": "stdout",
     "output_type": "stream",
     "text": [
      "After vectorizations\n",
      "(1, 49041) (49041,)\n",
      "(1, 24155) (24155,)\n",
      "(1, 36052) (36052,)\n",
      "====================================================================================================\n"
     ]
    }
   ],
   "source": [
    "normalizer = Normalizer()\n",
    "\n",
    "# normalizer.fit(X_train['price'].values)\n",
    "# this will rise an error Expected 2D array, got 1D array instead: \n",
    "# array=[105.22 215.96  96.01 ... 368.98  80.53 709.67].\n",
    "# Reshape your data either using \n",
    "# array.reshape(-1, 1) if your data has a single feature \n",
    "# array.reshape(1, -1)  if it contains a single sample.\n",
    "\n",
    "normalizer.fit(X_train['teacher_number_of_previously_posted_projects'].values.reshape(1,-1))\n",
    "\n",
    "prev_projects_train_norm = normalizer.transform(X_train['teacher_number_of_previously_posted_projects'].values.reshape(1,-1))\n",
    "prev_projects_cv_norm = normalizer.transform(X_cv['teacher_number_of_previously_posted_projects'].values.reshape(1,-1))\n",
    "prev_projects_test_norm = normalizer.transform(X_test['teacher_number_of_previously_posted_projects'].values.reshape(1,-1))\n",
    "\n",
    "print(\"After vectorizations\")\n",
    "print(prev_projects_train_norm.shape, y_train.shape)\n",
    "print(prev_projects_cv_norm.shape, y_cv.shape)\n",
    "print(prev_projects_test_norm.shape, y_test.shape)\n",
    "print(\"=\"*100)\n",
    "\n",
    "## reshaping \n",
    "prev_projects_train_norm=prev_projects_train_norm.reshape(-1,1)\n",
    "prev_projects_cv_norm=prev_projects_cv_norm.reshape(-1,1)\n",
    "prev_projects_test_norm=prev_projects_test_norm.reshape(-1,1)"
   ]
  },
  {
   "cell_type": "markdown",
   "metadata": {},
   "source": [
    "### Title Word counts"
   ]
  },
  {
   "cell_type": "code",
   "execution_count": 50,
   "metadata": {},
   "outputs": [
    {
     "name": "stdout",
     "output_type": "stream",
     "text": [
      "After vectorizations\n",
      "(1, 49041) (49041,)\n",
      "(1, 24155) (24155,)\n",
      "(1, 36052) (36052,)\n",
      "====================================================================================================\n"
     ]
    }
   ],
   "source": [
    "normalizer = Normalizer()\n",
    "\n",
    "normalizer.fit(X_train['words_in_title'].values.reshape(1,-1))\n",
    "\n",
    "title_word_count_train_norm = normalizer.transform(X_train['words_in_title'].values.reshape(1,-1))\n",
    "title_word_count_cv_norm = normalizer.transform(X_cv['words_in_title'].values.reshape(1,-1))\n",
    "title_word_count_test_norm = normalizer.transform(X_test['words_in_title'].values.reshape(1,-1))\n",
    "\n",
    "print(\"After vectorizations\")\n",
    "print(title_word_count_train_norm.shape, y_train.shape)\n",
    "print(title_word_count_cv_norm.shape, y_cv.shape)\n",
    "print(title_word_count_test_norm.shape, y_test.shape)\n",
    "print(\"=\"*100)\n",
    "\n",
    "## reshaping \n",
    "title_word_count_train_norm=title_word_count_train_norm.reshape(-1,1)\n",
    "title_word_count_cv_norm=title_word_count_cv_norm.reshape(-1,1)\n",
    "title_word_count_test_norm=title_word_count_test_norm.reshape(-1,1)"
   ]
  },
  {
   "cell_type": "markdown",
   "metadata": {},
   "source": [
    "#### Essay Words Counts"
   ]
  },
  {
   "cell_type": "code",
   "execution_count": 51,
   "metadata": {},
   "outputs": [
    {
     "name": "stdout",
     "output_type": "stream",
     "text": [
      "After vectorizations\n",
      "(1, 49041) (49041,)\n",
      "(1, 24155) (24155,)\n",
      "(1, 36052) (36052,)\n"
     ]
    }
   ],
   "source": [
    "normalizer = Normalizer()\n",
    "\n",
    "normalizer.fit(X_train['words_in_essay'].values.reshape(1,-1))\n",
    "\n",
    "essay_word_count_train_norm = normalizer.transform(X_train['words_in_essay'].values.reshape(1,-1))\n",
    "essay_word_count_cv_norm = normalizer.transform(X_cv['words_in_essay'].values.reshape(1,-1))\n",
    "essay_word_count_test_norm = normalizer.transform(X_test['words_in_essay'].values.reshape(1,-1))\n",
    "\n",
    "print(\"After vectorizations\")\n",
    "print(essay_word_count_train_norm.shape, y_train.shape)\n",
    "print(essay_word_count_cv_norm.shape, y_cv.shape)\n",
    "print(essay_word_count_test_norm.shape, y_test.shape)\n",
    "\n",
    "## reshaping \n",
    "essay_word_count_train_norm=essay_word_count_train_norm.reshape(-1,1)\n",
    "essay_word_count_cv_norm=essay_word_count_cv_norm.reshape(-1,1)\n",
    "essay_word_count_test_norm=essay_word_count_test_norm.reshape(-1,1)"
   ]
  },
  {
   "cell_type": "markdown",
   "metadata": {},
   "source": [
    "## Assignment 6: Apply NB"
   ]
  },
  {
   "cell_type": "markdown",
   "metadata": {},
   "source": [
    "<ol>\n",
    "    <li><strong>Apply Multinomial NB on these feature sets</strong>\n",
    "        <ul>\n",
    "            <li><font color='red'>Set 1</font>: categorical, numerical features + preprocessed_eassay (BOW)</li>\n",
    "            <li><font color='red'>Set 2</font>: categorical, numerical features + preprocessed_eassay (TFIDF)</li>\n",
    "        </ul>\n",
    "    </li>\n",
    "    <li><strong>The hyper paramter tuning(find best alpha:smoothing parameter)</strong>\n",
    "        <ul>\n",
    "    <li>Find the best hyper parameter which will give the maximum <a href='https://www.appliedaicourse.com/course/applied-ai-course-online/lessons/receiver-operating-characteristic-curve-roc-curve-and-auc-1/'>AUC</a> value</li>\n",
    "    <li>find the best hyper paramter using k-fold cross validation(use GridsearchCV or RandomsearchCV)/simple cross validation data (write for loop to iterate over hyper parameter values)</li>\n",
    "    <li></li>\n",
    "        </ul>\n",
    "    </li>\n",
    "    <li>\n",
    "    <strong>Representation of results</strong>\n",
    "        <ul>\n",
    "    <li>You need to plot the performance of model both on train data and cross validation data for each hyper parameter, like shown in the figure\n",
    "    <img src='https://i.imgur.com/hUv6aEy.jpg' width=300px></li>\n",
    "    <li>Once after you found the best hyper parameter, you need to train your model with it, and find the AUC on test data and plot the ROC curve on both train and test.\n",
    "    <img src='https://i.imgur.com/wMQDTFe.jpg' width=300px></li>\n",
    "    <li>Along with plotting ROC curve, you need to print the <a href='https://www.appliedaicourse.com/course/applied-ai-course-online/lessons/confusion-matrix-tpr-fpr-fnr-tnr-1/'>confusion matrix</a> with predicted and original labels of test data points\n",
    "    <img src='https://i.imgur.com/IdN5Ctv.png' width=300px></li>\n",
    "        </ul>\n",
    "    </li>\n",
    "    <li>\n",
    "fine the top 20 features from either from feature <font color='red'>Set 1</font> or feature <font color='red'>Set 2</font> using absolute values of `feature_log_prob_ ` parameter of `MultinomialNB` \n",
    "(https://scikit-learn.org/stable/modules/generated/sklearn.naive_bayes.MultinomialNB.html) and print their corresponding feature names\n",
    "    </li>\n",
    "    <li>You need to summarize the results at the end of the notebook, summarize it in the table format\n",
    "        <img src='http://i.imgur.com/YVpIGGE.jpg' width=400px>\n",
    "    </li>\n",
    "</ol>"
   ]
  },
  {
   "cell_type": "markdown",
   "metadata": {},
   "source": [
    "####  SET1 :Apply Multinomial NB on these feature sets (categorical, numerical features + preprocessed_eassay (BOW))"
   ]
  },
  {
   "cell_type": "markdown",
   "metadata": {},
   "source": [
    "#### Step 1 : Find best hyperparameter with maximum AUC "
   ]
  },
  {
   "cell_type": "code",
   "execution_count": 52,
   "metadata": {},
   "outputs": [
    {
     "name": "stdout",
     "output_type": "stream",
     "text": [
      "(49041, 7113)\n",
      "(36052, 7113)\n",
      "(24155, 7113)\n"
     ]
    }
   ],
   "source": [
    "# merge two sparse matrices: https://stackoverflow.com/a/19710648/4084039\n",
    "from scipy.sparse import hstack\n",
    "\n",
    "\n",
    "X_train_bow = hstack((train_categories, train_subcategories,sklstate_train,teacher_prefix_train,\n",
    "            proj_grade_train,bow_essay_train,bow_title_train,\n",
    "            X_train_price_norm,quantity_train_norm,prev_projects_train_norm,title_word_count_train_norm,\n",
    "            essay_word_count_train_norm)).tocsr()\n",
    "\n",
    "X_test_bow = hstack((test_categories, test_subcategories,sklstate_test,teacher_prefix_test,\n",
    "            proj_grade_test,bow_essay_test,bow_title_test,\n",
    "            X_test_price_norm,quantity_test_norm,prev_projects_test_norm,title_word_count_test_norm,\n",
    "            essay_word_count_test_norm)).tocsr()\n",
    "\n",
    "X_cv_bow = hstack((cv_categories, cv_subcategories,sklstate_cv,teacher_prefix_cv,\n",
    "            proj_grade_cv,bow_essay_cv,bow_title_cv,\n",
    "            X_cv_price_norm,quantity_cv_norm,prev_projects_cv_norm,title_word_count_cv_norm,\n",
    "            essay_word_count_cv_norm)).tocsr()\n",
    "\n",
    "\n",
    "print(X_train_bow.shape)\n",
    "print(X_test_bow.shape)\n",
    "print(X_cv_bow.shape)"
   ]
  },
  {
   "cell_type": "code",
   "execution_count": 53,
   "metadata": {},
   "outputs": [
    {
     "data": {
      "text/plain": [
       "<49041x7113 sparse matrix of type '<class 'numpy.float64'>'\n",
       "\twith 5398319 stored elements in Compressed Sparse Row format>"
      ]
     },
     "execution_count": 53,
     "metadata": {},
     "output_type": "execute_result"
    }
   ],
   "source": [
    "X_train_bow"
   ]
  },
  {
   "cell_type": "code",
   "execution_count": 54,
   "metadata": {},
   "outputs": [
    {
     "name": "stdout",
     "output_type": "stream",
     "text": [
      "Final Data matrix\n",
      "(49041, 7113) (49041,)\n",
      "(24155, 7113) (24155,)\n",
      "(36052, 7113) (36052,)\n",
      "====================================================================================================\n"
     ]
    }
   ],
   "source": [
    "print(\"Final Data matrix\")\n",
    "print(X_train_bow.shape, y_train.shape)\n",
    "print(X_cv_bow.shape, y_cv.shape)\n",
    "print(X_test_bow.shape, y_test.shape)\n",
    "print(\"=\"*100)"
   ]
  },
  {
   "cell_type": "code",
   "execution_count": 55,
   "metadata": {},
   "outputs": [],
   "source": [
    "def batch_predict(clf, data):\n",
    "    # roc_auc_score(y_true, y_score) the 2nd parameter should be probability estimates of the positive class\n",
    "    # not the predicted outputs\n",
    "\n",
    "    y_data_pred = []\n",
    "    tr_loop = data.shape[0] - data.shape[0]%1000\n",
    "    # consider you X_tr shape is 49041, then your cr_loop will be 49041 - 49041%1000 = 49000\n",
    "    # in this for loop we will iterate unti the last 1000 multiplier\n",
    "    for i in range(0, tr_loop, 1000):\n",
    "        y_data_pred.extend(clf.predict_proba(data[i:i+1000])[:,1])\n",
    "    # we will be predicting for the last data points\n",
    "    y_data_pred.extend(clf.predict_proba(data[tr_loop:])[:,1])\n",
    "    \n",
    "    return y_data_pred"
   ]
  },
  {
   "cell_type": "code",
   "execution_count": 56,
   "metadata": {},
   "outputs": [
    {
     "name": "stderr",
     "output_type": "stream",
     "text": [
      "100%|████████████████████████████████████████████████████████████████████████████████████| 9/9 [00:01<00:00,  5.75it/s]\n"
     ]
    }
   ],
   "source": [
    "from sklearn.naive_bayes import MultinomialNB\n",
    "from sklearn.metrics import roc_auc_score\n",
    "import seaborn as sns \n",
    "import math\n",
    "\n",
    "### Consider alphas values\n",
    "train_auc=[]\n",
    "cv_auc=[]\n",
    "alphas=[0.00001, 0.0001, 0.001, 0.01, 0.1, 1, 10,  100,  1000]\n",
    "\n",
    "for i in tqdm(alphas):\n",
    "    MB=MultinomialNB(class_prior=[0.5,0.5],alpha=i)\n",
    "    MB.fit(X_train_bow, y_train)\n",
    "    y_train_pred = batch_predict(MB, X_train_bow)    \n",
    "    y_cv_pred = batch_predict(MB, X_cv_bow)\n",
    "    train_auc.append(roc_auc_score(y_train,y_train_pred))\n",
    "    cv_auc.append(roc_auc_score(y_cv, y_cv_pred))\n",
    "\n",
    "## Scaling the alphas.\n",
    "# min_alpha=min(alphas)\n",
    "# max_alpha=max(alphas)\n",
    "# for i in tqdm(alphas):\n",
    "#     scaled_alpha.append((max_alpha-i)/(max_alpha -min_alpha))\n",
    "        \n",
    "\n",
    "    "
   ]
  },
  {
   "cell_type": "code",
   "execution_count": 57,
   "metadata": {
    "scrolled": false
   },
   "outputs": [
    {
     "data": {
      "image/png": "[encoded data removed]",
      "text/plain": [
       "<Figure size 720x720 with 1 Axes>"
      ]
     },
     "metadata": {
      "needs_background": "light"
     },
     "output_type": "display_data"
    }
   ],
   "source": [
    "\n",
    "plt.figure(figsize=(10,10))\n",
    "plt.plot(alphas, train_auc, label='Train AUC')\n",
    "plt.plot(alphas, cv_auc, label='CV AUC')\n",
    "\n",
    "plt.scatter(alphas, train_auc, label='Train AUC points')\n",
    "plt.scatter(alphas, cv_auc, label='CV AUC points')\n",
    "\n",
    "\n",
    "plt.legend()\n",
    "plt.xlabel(\"alphas: hyperparameter\")\n",
    "plt.ylabel(\"AUC\")\n",
    "plt.title(\"alpha: hyperparameter v/s AUC\")\n",
    "plt.grid(which='major', alpha=0.9)\n",
    "plt.show()"
   ]
  },
  {
   "cell_type": "markdown",
   "metadata": {},
   "source": [
    "### Observations :\n",
    "    1.There is is steep fall when alpha is greater than 1 which shows that as alpha increases beyond 1 performance reduces steeply.\n",
    "    2.Best AUC on cross validation is acheived at alpha 0.0001\n"
   ]
  },
  {
   "cell_type": "markdown",
   "metadata": {},
   "source": [
    "### RandomSearch CV using K-fold Crossvalidation with k=10"
   ]
  },
  {
   "cell_type": "code",
   "execution_count": 59,
   "metadata": {},
   "outputs": [
    {
     "name": "stdout",
     "output_type": "stream",
     "text": [
      "Fitting 10 folds for each of 10 candidates, totalling 100 fits\n"
     ]
    },
    {
     "name": "stderr",
     "output_type": "stream",
     "text": [
      "[Parallel(n_jobs=10)]: Using backend LokyBackend with 10 concurrent workers.\n",
      "[Parallel(n_jobs=10)]: Done  30 tasks      | elapsed:    2.2s\n",
      "[Parallel(n_jobs=10)]: Done 100 out of 100 | elapsed:    6.2s finished\n"
     ]
    }
   ],
   "source": [
    "from sklearn.model_selection import GridSearchCV\n",
    "from scipy.stats import randint as sp_randint\n",
    "from sklearn.model_selection import RandomizedSearchCV\n",
    "\n",
    "parameters={\"alpha\" : sp_randint(0.0001,100) }\n",
    "\n",
    "#RS_log_alphas =[]\n",
    "\n",
    "#RS_alphas=[0.00001, 0.0001, 0.001, 0.1,0.7,0.8, 1,100,1000]\n",
    "\n",
    "# for a in tqdm(RS_alphas):\n",
    "#     b = math.log(a)\n",
    "#     RS_log_alphas.append(b)\n",
    "    \n",
    "clf = RandomizedSearchCV(MB, parameters,return_train_score=True ,cv=10, scoring='roc_auc',verbose=1,n_jobs=10)\n",
    "clf.fit(X_train_bow, y_train)\n",
    "results = pd.DataFrame.from_dict(clf.cv_results_)\n",
    "results = results.sort_values(['param_alpha'])\n",
    "\n",
    "RS_alphas=results['param_alpha']\n",
    "train_auc= results['mean_train_score']\n",
    "train_auc_std= results['std_train_score']\n",
    "cv_auc = results['mean_test_score'] \n",
    "cv_auc_std= results['std_test_score']\n"
   ]
  },
  {
   "cell_type": "code",
   "execution_count": 60,
   "metadata": {},
   "outputs": [
    {
     "data": {
      "image/png": "[encoded data removed]",
      "text/plain": [
       "<Figure size 432x288 with 1 Axes>"
      ]
     },
     "metadata": {
      "needs_background": "light"
     },
     "output_type": "display_data"
    },
    {
     "data": {
      "text/html": [
       "<div>\n",
       "<style scoped>\n",
       "    .dataframe tbody tr th:only-of-type {\n",
       "        vertical-align: middle;\n",
       "    }\n",
       "\n",
       "    .dataframe tbody tr th {\n",
       "        vertical-align: top;\n",
       "    }\n",
       "\n",
       "    .dataframe thead th {\n",
       "        text-align: right;\n",
       "    }\n",
       "</style>\n",
       "<table border=\"1\" class=\"dataframe\">\n",
       "  <thead>\n",
       "    <tr style=\"text-align: right;\">\n",
       "      <th></th>\n",
       "      <th>mean_fit_time</th>\n",
       "      <th>std_fit_time</th>\n",
       "      <th>mean_score_time</th>\n",
       "      <th>std_score_time</th>\n",
       "      <th>param_alpha</th>\n",
       "      <th>params</th>\n",
       "      <th>split0_test_score</th>\n",
       "      <th>split1_test_score</th>\n",
       "      <th>split2_test_score</th>\n",
       "      <th>split3_test_score</th>\n",
       "      <th>...</th>\n",
       "      <th>split2_train_score</th>\n",
       "      <th>split3_train_score</th>\n",
       "      <th>split4_train_score</th>\n",
       "      <th>split5_train_score</th>\n",
       "      <th>split6_train_score</th>\n",
       "      <th>split7_train_score</th>\n",
       "      <th>split8_train_score</th>\n",
       "      <th>split9_train_score</th>\n",
       "      <th>mean_train_score</th>\n",
       "      <th>std_train_score</th>\n",
       "    </tr>\n",
       "  </thead>\n",
       "  <tbody>\n",
       "    <tr>\n",
       "      <th>9</th>\n",
       "      <td>0.380720</td>\n",
       "      <td>0.114470</td>\n",
       "      <td>0.017478</td>\n",
       "      <td>0.008547</td>\n",
       "      <td>5</td>\n",
       "      <td>{'alpha': 5}</td>\n",
       "      <td>0.690013</td>\n",
       "      <td>0.711586</td>\n",
       "      <td>0.710972</td>\n",
       "      <td>0.687821</td>\n",
       "      <td>...</td>\n",
       "      <td>0.743296</td>\n",
       "      <td>0.744372</td>\n",
       "      <td>0.743006</td>\n",
       "      <td>0.745293</td>\n",
       "      <td>0.743349</td>\n",
       "      <td>0.743635</td>\n",
       "      <td>0.743797</td>\n",
       "      <td>0.743408</td>\n",
       "      <td>0.743887</td>\n",
       "      <td>0.000763</td>\n",
       "    </tr>\n",
       "    <tr>\n",
       "      <th>4</th>\n",
       "      <td>0.404020</td>\n",
       "      <td>0.119674</td>\n",
       "      <td>0.020120</td>\n",
       "      <td>0.013498</td>\n",
       "      <td>16</td>\n",
       "      <td>{'alpha': 16}</td>\n",
       "      <td>0.660111</td>\n",
       "      <td>0.686049</td>\n",
       "      <td>0.689977</td>\n",
       "      <td>0.665957</td>\n",
       "      <td>...</td>\n",
       "      <td>0.705205</td>\n",
       "      <td>0.706741</td>\n",
       "      <td>0.705881</td>\n",
       "      <td>0.707504</td>\n",
       "      <td>0.706198</td>\n",
       "      <td>0.706492</td>\n",
       "      <td>0.705943</td>\n",
       "      <td>0.706767</td>\n",
       "      <td>0.706448</td>\n",
       "      <td>0.000871</td>\n",
       "    </tr>\n",
       "    <tr>\n",
       "      <th>6</th>\n",
       "      <td>0.410510</td>\n",
       "      <td>0.109627</td>\n",
       "      <td>0.015958</td>\n",
       "      <td>0.010345</td>\n",
       "      <td>25</td>\n",
       "      <td>{'alpha': 25}</td>\n",
       "      <td>0.643747</td>\n",
       "      <td>0.668834</td>\n",
       "      <td>0.675012</td>\n",
       "      <td>0.652397</td>\n",
       "      <td>...</td>\n",
       "      <td>0.682529</td>\n",
       "      <td>0.684328</td>\n",
       "      <td>0.684084</td>\n",
       "      <td>0.685023</td>\n",
       "      <td>0.684072</td>\n",
       "      <td>0.684374</td>\n",
       "      <td>0.683434</td>\n",
       "      <td>0.685134</td>\n",
       "      <td>0.684193</td>\n",
       "      <td>0.000981</td>\n",
       "    </tr>\n",
       "    <tr>\n",
       "      <th>7</th>\n",
       "      <td>0.351259</td>\n",
       "      <td>0.126504</td>\n",
       "      <td>0.018051</td>\n",
       "      <td>0.010802</td>\n",
       "      <td>33</td>\n",
       "      <td>{'alpha': 33}</td>\n",
       "      <td>0.633130</td>\n",
       "      <td>0.656826</td>\n",
       "      <td>0.664340</td>\n",
       "      <td>0.643136</td>\n",
       "      <td>...</td>\n",
       "      <td>0.666977</td>\n",
       "      <td>0.668928</td>\n",
       "      <td>0.669185</td>\n",
       "      <td>0.669621</td>\n",
       "      <td>0.668837</td>\n",
       "      <td>0.669170</td>\n",
       "      <td>0.668056</td>\n",
       "      <td>0.670305</td>\n",
       "      <td>0.668916</td>\n",
       "      <td>0.001080</td>\n",
       "    </tr>\n",
       "    <tr>\n",
       "      <th>3</th>\n",
       "      <td>0.366248</td>\n",
       "      <td>0.121903</td>\n",
       "      <td>0.024679</td>\n",
       "      <td>0.022986</td>\n",
       "      <td>34</td>\n",
       "      <td>{'alpha': 34}</td>\n",
       "      <td>0.632005</td>\n",
       "      <td>0.655523</td>\n",
       "      <td>0.663208</td>\n",
       "      <td>0.642104</td>\n",
       "      <td>...</td>\n",
       "      <td>0.665275</td>\n",
       "      <td>0.667236</td>\n",
       "      <td>0.667556</td>\n",
       "      <td>0.667937</td>\n",
       "      <td>0.667162</td>\n",
       "      <td>0.667504</td>\n",
       "      <td>0.666372</td>\n",
       "      <td>0.668675</td>\n",
       "      <td>0.667241</td>\n",
       "      <td>0.001092</td>\n",
       "    </tr>\n",
       "  </tbody>\n",
       "</table>\n",
       "<p>5 rows × 31 columns</p>\n",
       "</div>"
      ],
      "text/plain": [
       "   mean_fit_time  std_fit_time  mean_score_time  std_score_time param_alpha  \\\n",
       "9       0.380720      0.114470         0.017478        0.008547           5   \n",
       "4       0.404020      0.119674         0.020120        0.013498          16   \n",
       "6       0.410510      0.109627         0.015958        0.010345          25   \n",
       "7       0.351259      0.126504         0.018051        0.010802          33   \n",
       "3       0.366248      0.121903         0.024679        0.022986          34   \n",
       "\n",
       "          params  split0_test_score  split1_test_score  split2_test_score  \\\n",
       "9   {'alpha': 5}           0.690013           0.711586           0.710972   \n",
       "4  {'alpha': 16}           0.660111           0.686049           0.689977   \n",
       "6  {'alpha': 25}           0.643747           0.668834           0.675012   \n",
       "7  {'alpha': 33}           0.633130           0.656826           0.664340   \n",
       "3  {'alpha': 34}           0.632005           0.655523           0.663208   \n",
       "\n",
       "   split3_test_score  ...  split2_train_score  split3_train_score  \\\n",
       "9           0.687821  ...            0.743296            0.744372   \n",
       "4           0.665957  ...            0.705205            0.706741   \n",
       "6           0.652397  ...            0.682529            0.684328   \n",
       "7           0.643136  ...            0.666977            0.668928   \n",
       "3           0.642104  ...            0.665275            0.667236   \n",
       "\n",
       "   split4_train_score  split5_train_score  split6_train_score  \\\n",
       "9            0.743006            0.745293            0.743349   \n",
       "4            0.705881            0.707504            0.706198   \n",
       "6            0.684084            0.685023            0.684072   \n",
       "7            0.669185            0.669621            0.668837   \n",
       "3            0.667556            0.667937            0.667162   \n",
       "\n",
       "   split7_train_score  split8_train_score  split9_train_score  \\\n",
       "9            0.743635            0.743797            0.743408   \n",
       "4            0.706492            0.705943            0.706767   \n",
       "6            0.684374            0.683434            0.685134   \n",
       "7            0.669170            0.668056            0.670305   \n",
       "3            0.667504            0.666372            0.668675   \n",
       "\n",
       "   mean_train_score  std_train_score  \n",
       "9          0.743887         0.000763  \n",
       "4          0.706448         0.000871  \n",
       "6          0.684193         0.000981  \n",
       "7          0.668916         0.001080  \n",
       "3          0.667241         0.001092  \n",
       "\n",
       "[5 rows x 31 columns]"
      ]
     },
     "execution_count": 60,
     "metadata": {},
     "output_type": "execute_result"
    }
   ],
   "source": [
    "plt.plot(RS_alphas, train_auc, label='Train AUC')\n",
    "# this code is copied from here: https://stackoverflow.com/a/48803361/4084039\n",
    "# plt.gca().fill_between(K, train_auc - train_auc_std,train_auc + train_auc_std,alpha=0.2,color='darkblue')\n",
    "\n",
    "plt.plot(RS_alphas, cv_auc, label='CV AUC')\n",
    "# this code is copied from here: https://stackoverflow.com/a/48803361/4084039\n",
    "# plt.gca().fill_between(K, cv_auc - cv_auc_std,cv_auc + cv_auc_std,alpha=0.2,color='darkorange')\n",
    "\n",
    "plt.scatter(RS_alphas, train_auc, label='Train AUC points')\n",
    "plt.scatter(RS_alphas, cv_auc, label='CV AUC points')\n",
    "\n",
    "\n",
    "plt.legend()\n",
    "plt.xlabel(\"Alpha: hyperparameter\")\n",
    "plt.ylabel(\"AUC\")\n",
    "plt.title(\"Hyper parameter Vs AUC plot\")\n",
    "plt.grid()\n",
    "plt.show()\n",
    "\n",
    "results.head()"
   ]
  },
  {
   "cell_type": "markdown",
   "metadata": {},
   "source": [
    "#### Observations :\n",
    "        1. We can see a steady fall in the AUC value as alpha increases.\n",
    "     "
   ]
  },
  {
   "cell_type": "markdown",
   "metadata": {},
   "source": [
    "### Train the Model using the best hyper parameter value "
   ]
  },
  {
   "cell_type": "code",
   "execution_count": 61,
   "metadata": {},
   "outputs": [
    {
     "name": "stdout",
     "output_type": "stream",
     "text": [
      "Best Alpha as a result of Random Search {'alpha': 5}\n"
     ]
    }
   ],
   "source": [
    "### https://forums.fast.ai/t/hyperparameter-random-search-interpretation/8591 ---to get the best hyper parameter as a reuslt of Random search\n",
    "best_alpha = clf.best_params_\n",
    "print('Best Alpha as a result of Random Search',best_alpha)"
   ]
  },
  {
   "cell_type": "code",
   "execution_count": 62,
   "metadata": {},
   "outputs": [
    {
     "data": {
      "image/png": "[encoded data removed]",
      "text/plain": [
       "<Figure size 432x288 with 1 Axes>"
      ]
     },
     "metadata": {
      "needs_background": "light"
     },
     "output_type": "display_data"
    }
   ],
   "source": [
    "# https://scikit-learn.org/stable/modules/generated/sklearn.metrics.roc_curve.html#sklearn.metrics.roc_curve\n",
    "from sklearn.metrics import roc_curve, auc\n",
    "\n",
    "\n",
    "MB_bow = MultinomialNB(alpha = 0.1,class_prior=[0.5,0.5])\n",
    "MB_bow.fit(X_train_bow, y_train)\n",
    "# roc_auc_score(y_true, y_score) the 2nd parameter should be probability estimates of the positive class\n",
    "# not the predicted outputs\n",
    "\n",
    "y_train_pred = batch_predict(MB_bow, X_train_bow)    \n",
    "y_test_pred = batch_predict(MB_bow, X_test_bow)\n",
    "\n",
    "train_fpr, train_tpr, tr_thresholds = roc_curve(y_train, y_train_pred)\n",
    "test_fpr, test_tpr, te_thresholds = roc_curve(y_test, y_test_pred)\n",
    "\n",
    "plt.plot(train_fpr, train_tpr, label=\"train AUC =\"+str(auc(train_fpr, train_tpr)))\n",
    "plt.plot(test_fpr, test_tpr, label=\"test AUC =\"+str(auc(test_fpr, test_tpr)))\n",
    "plt.legend()\n",
    "plt.xlabel(\"False Possitive Rate (FPR)\")\n",
    "plt.ylabel(\"True Possitive Rate (TPR)\")\n",
    "plt.title(\"ERROR PLOTS\")\n",
    "plt.grid()\n",
    "plt.show()"
   ]
  },
  {
   "cell_type": "markdown",
   "metadata": {},
   "source": [
    "### Observations:\n",
    "     1. Train AUC observed to be 0.76 and Test AUC observed to be 0.704 when considering the best alpha."
   ]
  },
  {
   "cell_type": "markdown",
   "metadata": {},
   "source": [
    "### CONFUSION MATRIX"
   ]
  },
  {
   "cell_type": "code",
   "execution_count": 63,
   "metadata": {},
   "outputs": [],
   "source": [
    "# we are writing our own function for predict, with defined thresould\n",
    "# we will pick a threshold that will give the least fpr\n",
    "def find_best_threshold(threshould, fpr, tpr):\n",
    "    t = threshould[np.argmax(tpr*(1-fpr))]\n",
    "    # (tpr*(1-fpr)) will be maximum if your fpr is very low and tpr is very high\n",
    "    print(\"the maximum value of tpr*(1-fpr)\", max(tpr*(1-fpr)), \"for threshold\", np.round(t,3))\n",
    "    return t\n",
    "\n",
    "def predict_with_best_t(proba, threshould):\n",
    "    predictions = []\n",
    "    for i in proba:\n",
    "        if i>=threshould:\n",
    "            predictions.append(1)\n",
    "        else:\n",
    "            predictions.append(0)\n",
    "    return predictions"
   ]
  },
  {
   "cell_type": "code",
   "execution_count": 64,
   "metadata": {},
   "outputs": [
    {
     "name": "stdout",
     "output_type": "stream",
     "text": [
      "====================================================================================================\n",
      "the maximum value of tpr*(1-fpr) 0.489766545636 for threshold 0.506\n",
      "Train confusion matrix\n",
      "[[ 5259  2167]\n",
      " [12835 28780]]\n",
      "Test confusion matrix\n",
      "[[ 3426  2033]\n",
      " [ 9774 20819]]\n"
     ]
    }
   ],
   "source": [
    "print(\"=\"*100)\n",
    "from sklearn.metrics import confusion_matrix\n",
    "best_t = find_best_threshold(tr_thresholds, train_fpr, train_tpr)\n",
    "print(\"Train confusion matrix\")\n",
    "print(confusion_matrix(y_train, predict_with_best_t(y_train_pred, best_t)))\n",
    "print(\"Test confusion matrix\")\n",
    "print(confusion_matrix(y_test, predict_with_best_t(y_test_pred, best_t)))"
   ]
  },
  {
   "cell_type": "markdown",
   "metadata": {},
   "source": [
    "#### Ploting Confusion Matrix on Train data"
   ]
  },
  {
   "cell_type": "code",
   "execution_count": 65,
   "metadata": {},
   "outputs": [
    {
     "data": {
      "image/png": "[encoded data removed]",
      "text/plain": [
       "<Figure size 432x288 with 2 Axes>"
      ]
     },
     "metadata": {},
     "output_type": "display_data"
    }
   ],
   "source": [
    "### PLOT the matrix for Train\n",
    "# source : https://stackoverflow.com/questions/35572000/how-can-i-plot-a-confusion-matrix\n",
    "df_cm = pd.DataFrame(confusion_matrix(y_train, predict_with_best_t(y_train_pred, best_t)), range(2), range(2))\n",
    "# plt.figure(figsize=(10,7))\n",
    "sns.set(font_scale=1.4) # for label size\n",
    "sns.heatmap(df_cm, annot=True, annot_kws={\"size\": 16},fmt='g') # font size\n",
    "plt.show()"
   ]
  },
  {
   "cell_type": "markdown",
   "metadata": {},
   "source": [
    "#### Plotting Cnfusion Matrix on Test Data"
   ]
  },
  {
   "cell_type": "code",
   "execution_count": 66,
   "metadata": {},
   "outputs": [
    {
     "data": {
      "image/png": "[encoded data removed]",
      "text/plain": [
       "<Figure size 432x288 with 2 Axes>"
      ]
     },
     "metadata": {},
     "output_type": "display_data"
    }
   ],
   "source": [
    "### PLOT the matrix for Train\n",
    "# source : https://stackoverflow.com/questions/35572000/how-can-i-plot-a-confusion-matrix\n",
    "df_cm = pd.DataFrame(confusion_matrix(y_test, predict_with_best_t(y_test_pred, best_t)), range(2), range(2))\n",
    "# plt.figure(figsize=(10,7))\n",
    "sns.set(font_scale=1.4) # for label size\n",
    "sns.heatmap(df_cm, annot=True, annot_kws={\"size\": 16},fmt='g') # font size\n",
    "plt.show()"
   ]
  },
  {
   "cell_type": "markdown",
   "metadata": {},
   "source": [
    "### Observations :\n",
    "    1.We can observe from train and test we are getting majority True positives\n",
    "    2.Least number of data falls in False negative,which refers as least number of projects were incorrectly predicted as not approved in both Test and Train.\n",
    "    3.For a model to perform well we need High True Positive Rate and Low False Positive Rate.From the above our train data has True Positive Rate as 92% and False Positive Rate as 70%\n",
    "    4.In our test data : True Positive Rate as 91% and False Positive Rate as 73%. "
   ]
  },
  {
   "cell_type": "markdown",
   "metadata": {},
   "source": [
    "####  SET2 :Apply Multinomial NB on these feature sets (categorical, numerical features + preprocessed_eassay (TFIDF))"
   ]
  },
  {
   "cell_type": "markdown",
   "metadata": {},
   "source": [
    "#### Step 1 : Find best hyperparameter with maximum AUC "
   ]
  },
  {
   "cell_type": "code",
   "execution_count": 67,
   "metadata": {},
   "outputs": [
    {
     "name": "stdout",
     "output_type": "stream",
     "text": [
      "(49041, 7113)\n",
      "(36052, 7113)\n",
      "(24155, 7113)\n"
     ]
    }
   ],
   "source": [
    "# merge two sparse matrices: https://stackoverflow.com/a/19710648/4084039\n",
    "from scipy.sparse import hstack\n",
    "\n",
    "\n",
    "X_train_tfidf = hstack((train_categories, train_subcategories,sklstate_train,teacher_prefix_train,\n",
    "            proj_grade_train,tfidf_essay_train,tfidf_title_train,\n",
    "            X_train_price_norm,quantity_train_norm,prev_projects_train_norm,title_word_count_train_norm,\n",
    "            essay_word_count_train_norm)).tocsr()\n",
    "\n",
    "X_test_tfidf = hstack((test_categories, test_subcategories,sklstate_test,teacher_prefix_test,\n",
    "            proj_grade_test,tfidf_essay_test,tfidf_title_test,\n",
    "            X_test_price_norm,quantity_test_norm,prev_projects_test_norm,title_word_count_test_norm,\n",
    "            essay_word_count_test_norm)).tocsr()\n",
    "\n",
    "X_cv_tfidf = hstack((cv_categories, cv_subcategories,sklstate_cv,teacher_prefix_cv,\n",
    "            proj_grade_cv,tfidf_essay_cv,tfidf_title_cv,\n",
    "            X_cv_price_norm,quantity_cv_norm,prev_projects_cv_norm,title_word_count_cv_norm,\n",
    "            essay_word_count_cv_norm)).tocsr()\n",
    "\n",
    "\n",
    "print(X_train_tfidf.shape)\n",
    "print(X_test_tfidf.shape)\n",
    "print(X_cv_tfidf.shape)"
   ]
  },
  {
   "cell_type": "code",
   "execution_count": 68,
   "metadata": {},
   "outputs": [
    {
     "name": "stdout",
     "output_type": "stream",
     "text": [
      "Final Data matrix\n",
      "(49041, 7113) (49041,)\n",
      "(24155, 7113) (24155,)\n",
      "(36052, 7113) (36052,)\n",
      "====================================================================================================\n"
     ]
    }
   ],
   "source": [
    "print(\"Final Data matrix\")\n",
    "print(X_train_tfidf.shape, y_train.shape)\n",
    "print(X_cv_tfidf.shape, y_cv.shape)\n",
    "print(X_test_tfidf.shape, y_test.shape)\n",
    "print(\"=\"*100)"
   ]
  },
  {
   "cell_type": "code",
   "execution_count": 69,
   "metadata": {},
   "outputs": [],
   "source": [
    "def batch_predict(clf, data):\n",
    "    # roc_auc_score(y_true, y_score) the 2nd parameter should be probability estimates of the positive class\n",
    "    # not the predicted outputs\n",
    "\n",
    "    y_data_pred = []\n",
    "    tr_loop = data.shape[0] - data.shape[0]%1000\n",
    "    # consider you X_tr shape is 49041, then your cr_loop will be 49041 - 49041%1000 = 49000\n",
    "    # in this for loop we will iterate unti the last 1000 multiplier\n",
    "    for i in range(0, tr_loop, 1000):\n",
    "        y_data_pred.extend(clf.predict_proba(data[i:i+1000])[:,1])\n",
    "    # we will be predicting for the last data points\n",
    "    y_data_pred.extend(clf.predict_proba(data[tr_loop:])[:,1])\n",
    "    \n",
    "    return y_data_pred"
   ]
  },
  {
   "cell_type": "code",
   "execution_count": 70,
   "metadata": {},
   "outputs": [
    {
     "name": "stderr",
     "output_type": "stream",
     "text": [
      "100%|████████████████████████████████████████████████████████████████████████████████████| 9/9 [00:01<00:00,  6.77it/s]\n"
     ]
    }
   ],
   "source": [
    "from sklearn.naive_bayes import MultinomialNB\n",
    "from sklearn.metrics import roc_auc_score\n",
    "import seaborn as sns \n",
    "import math\n",
    "\n",
    "### Consider alphas values\n",
    "train_auc=[]\n",
    "cv_auc=[]\n",
    "alphas=[0.00001, 0.0001, 0.001, 0.01, 0.1, 1, 10,  100,  1000]\n",
    "scaled_alpha=[]\n",
    "\n",
    "for i in tqdm(alphas):\n",
    "    MB=MultinomialNB(class_prior=[0.5,0.5],alpha=i)\n",
    "    MB.fit(X_train_tfidf, y_train)\n",
    "    y_train_pred = batch_predict(MB, X_train_tfidf)    \n",
    "    y_cv_pred = batch_predict(MB, X_cv_tfidf)\n",
    "    train_auc.append(roc_auc_score(y_train,y_train_pred))\n",
    "    cv_auc.append(roc_auc_score(y_cv, y_cv_pred))\n",
    "\n",
    "## Scaling the alphas.\n",
    "# min_alpha=min(alphas)\n",
    "# max_alpha=max(alphas)\n",
    "# for i in tqdm(alphas):\n",
    "#     scaled_alpha.append((max_alpha-i)/(max_alpha -min_alpha))\n",
    "        "
   ]
  },
  {
   "cell_type": "code",
   "execution_count": 73,
   "metadata": {
    "scrolled": false
   },
   "outputs": [
    {
     "data": {
      "image/png": "[encoded data removed]",
      "text/plain": [
       "<Figure size 576x576 with 1 Axes>"
      ]
     },
     "metadata": {},
     "output_type": "display_data"
    }
   ],
   "source": [
    "\n",
    "plt.figure(figsize=(8,8))\n",
    "plt.plot(alphas, train_auc, label='Train AUC')\n",
    "plt.plot(alphas, cv_auc, label='CV AUC')\n",
    "\n",
    "plt.scatter(alphas, train_auc, label='Train AUC points')\n",
    "plt.scatter(alphas, cv_auc, label='CV AUC points')\n",
    "\n",
    "\n",
    "plt.legend()\n",
    "plt.xlabel(\"alphas: hyperparameter\")\n",
    "plt.ylabel(\"AUC\")\n",
    "plt.title(\"alphas: hyperparameter v/s AUC\")\n",
    "plt.grid(which='major', alpha=0.9)\n",
    "plt.show()"
   ]
  },
  {
   "cell_type": "markdown",
   "metadata": {},
   "source": [
    "### Observations :\n",
    "    1. Above plot shows that Train_data has higher AUC than Cross validation data.\n",
    "    2.There is is steep fall when alpha is greater than 0.001 which shows that as alpha increases beyond 0.001 performance reduces steeply.\n"
   ]
  },
  {
   "cell_type": "markdown",
   "metadata": {},
   "source": [
    "### RandomSearch CV using K-fold Crossvalidation with k=10"
   ]
  },
  {
   "cell_type": "code",
   "execution_count": 75,
   "metadata": {},
   "outputs": [
    {
     "name": "stdout",
     "output_type": "stream",
     "text": [
      "Fitting 10 folds for each of 10 candidates, totalling 100 fits\n"
     ]
    },
    {
     "name": "stderr",
     "output_type": "stream",
     "text": [
      "[Parallel(n_jobs=10)]: Using backend LokyBackend with 10 concurrent workers.\n",
      "[Parallel(n_jobs=10)]: Done  30 tasks      | elapsed:    1.8s\n",
      "[Parallel(n_jobs=10)]: Done 100 out of 100 | elapsed:    5.2s finished\n"
     ]
    }
   ],
   "source": [
    "from sklearn.model_selection import GridSearchCV\n",
    "from scipy.stats import randint as sp_randint\n",
    "from sklearn.model_selection import RandomizedSearchCV\n",
    "\n",
    "parameters={\"alpha\" : sp_randint(0.001,100) }\n",
    "\n",
    "#RS_log_alphas =[]\n",
    "\n",
    "#RS_alphas=[0.00001, 0.0001, 0.001, 0.1,0.7,0.8, 1,100,1000]\n",
    "\n",
    "# for a in tqdm(RS_alphas):\n",
    "#     b = math.log(a)\n",
    "#     RS_log_alphas.append(b)\n",
    "    \n",
    "clf = RandomizedSearchCV(MB, parameters, cv=10,return_train_score=True,scoring='roc_auc',verbose=1,n_jobs=10)\n",
    "clf.fit(X_train_tfidf, y_train)\n",
    "results = pd.DataFrame.from_dict(clf.cv_results_)\n",
    "results = results.sort_values(['param_alpha'])\n",
    "\n",
    "RS_alphas=results['param_alpha']\n",
    "train_auc= results['mean_train_score']\n",
    "train_auc_std= results['std_train_score']\n",
    "cv_auc = results['mean_test_score'] \n",
    "cv_auc_std= results['std_test_score']\n",
    "\n",
    "\n"
   ]
  },
  {
   "cell_type": "code",
   "execution_count": 76,
   "metadata": {},
   "outputs": [
    {
     "data": {
      "image/png": "[encoded data removed]",
      "text/plain": [
       "<Figure size 432x288 with 1 Axes>"
      ]
     },
     "metadata": {},
     "output_type": "display_data"
    },
    {
     "data": {
      "text/html": [
       "<div>\n",
       "<style scoped>\n",
       "    .dataframe tbody tr th:only-of-type {\n",
       "        vertical-align: middle;\n",
       "    }\n",
       "\n",
       "    .dataframe tbody tr th {\n",
       "        vertical-align: top;\n",
       "    }\n",
       "\n",
       "    .dataframe thead th {\n",
       "        text-align: right;\n",
       "    }\n",
       "</style>\n",
       "<table border=\"1\" class=\"dataframe\">\n",
       "  <thead>\n",
       "    <tr style=\"text-align: right;\">\n",
       "      <th></th>\n",
       "      <th>mean_fit_time</th>\n",
       "      <th>std_fit_time</th>\n",
       "      <th>mean_score_time</th>\n",
       "      <th>std_score_time</th>\n",
       "      <th>param_alpha</th>\n",
       "      <th>params</th>\n",
       "      <th>split0_test_score</th>\n",
       "      <th>split1_test_score</th>\n",
       "      <th>split2_test_score</th>\n",
       "      <th>split3_test_score</th>\n",
       "      <th>...</th>\n",
       "      <th>split2_train_score</th>\n",
       "      <th>split3_train_score</th>\n",
       "      <th>split4_train_score</th>\n",
       "      <th>split5_train_score</th>\n",
       "      <th>split6_train_score</th>\n",
       "      <th>split7_train_score</th>\n",
       "      <th>split8_train_score</th>\n",
       "      <th>split9_train_score</th>\n",
       "      <th>mean_train_score</th>\n",
       "      <th>std_train_score</th>\n",
       "    </tr>\n",
       "  </thead>\n",
       "  <tbody>\n",
       "    <tr>\n",
       "      <th>1</th>\n",
       "      <td>0.353951</td>\n",
       "      <td>0.095472</td>\n",
       "      <td>0.024635</td>\n",
       "      <td>0.019147</td>\n",
       "      <td>1</td>\n",
       "      <td>{'alpha': 1}</td>\n",
       "      <td>0.656654</td>\n",
       "      <td>0.678948</td>\n",
       "      <td>0.671653</td>\n",
       "      <td>0.658960</td>\n",
       "      <td>...</td>\n",
       "      <td>0.734155</td>\n",
       "      <td>0.733256</td>\n",
       "      <td>0.733427</td>\n",
       "      <td>0.735326</td>\n",
       "      <td>0.733570</td>\n",
       "      <td>0.733743</td>\n",
       "      <td>0.734920</td>\n",
       "      <td>0.733066</td>\n",
       "      <td>0.734082</td>\n",
       "      <td>0.000964</td>\n",
       "    </tr>\n",
       "    <tr>\n",
       "      <th>7</th>\n",
       "      <td>0.377292</td>\n",
       "      <td>0.057856</td>\n",
       "      <td>0.014861</td>\n",
       "      <td>0.010077</td>\n",
       "      <td>11</td>\n",
       "      <td>{'alpha': 11}</td>\n",
       "      <td>0.569192</td>\n",
       "      <td>0.589660</td>\n",
       "      <td>0.594393</td>\n",
       "      <td>0.585483</td>\n",
       "      <td>...</td>\n",
       "      <td>0.604553</td>\n",
       "      <td>0.605507</td>\n",
       "      <td>0.607758</td>\n",
       "      <td>0.605547</td>\n",
       "      <td>0.605306</td>\n",
       "      <td>0.606563</td>\n",
       "      <td>0.605165</td>\n",
       "      <td>0.607539</td>\n",
       "      <td>0.605991</td>\n",
       "      <td>0.001184</td>\n",
       "    </tr>\n",
       "    <tr>\n",
       "      <th>3</th>\n",
       "      <td>0.320244</td>\n",
       "      <td>0.096062</td>\n",
       "      <td>0.014062</td>\n",
       "      <td>0.009307</td>\n",
       "      <td>14</td>\n",
       "      <td>{'alpha': 14}</td>\n",
       "      <td>0.560949</td>\n",
       "      <td>0.580587</td>\n",
       "      <td>0.586078</td>\n",
       "      <td>0.577900</td>\n",
       "      <td>...</td>\n",
       "      <td>0.592443</td>\n",
       "      <td>0.593452</td>\n",
       "      <td>0.595987</td>\n",
       "      <td>0.593416</td>\n",
       "      <td>0.593066</td>\n",
       "      <td>0.594632</td>\n",
       "      <td>0.593067</td>\n",
       "      <td>0.595771</td>\n",
       "      <td>0.593970</td>\n",
       "      <td>0.001281</td>\n",
       "    </tr>\n",
       "    <tr>\n",
       "      <th>0</th>\n",
       "      <td>0.294511</td>\n",
       "      <td>0.080867</td>\n",
       "      <td>0.011968</td>\n",
       "      <td>0.003567</td>\n",
       "      <td>20</td>\n",
       "      <td>{'alpha': 20}</td>\n",
       "      <td>0.550755</td>\n",
       "      <td>0.568740</td>\n",
       "      <td>0.575343</td>\n",
       "      <td>0.568131</td>\n",
       "      <td>...</td>\n",
       "      <td>0.576866</td>\n",
       "      <td>0.577944</td>\n",
       "      <td>0.580798</td>\n",
       "      <td>0.577876</td>\n",
       "      <td>0.577258</td>\n",
       "      <td>0.579269</td>\n",
       "      <td>0.577545</td>\n",
       "      <td>0.580574</td>\n",
       "      <td>0.578493</td>\n",
       "      <td>0.001395</td>\n",
       "    </tr>\n",
       "    <tr>\n",
       "      <th>2</th>\n",
       "      <td>0.333807</td>\n",
       "      <td>0.116230</td>\n",
       "      <td>0.012368</td>\n",
       "      <td>0.004305</td>\n",
       "      <td>24</td>\n",
       "      <td>{'alpha': 24}</td>\n",
       "      <td>0.546300</td>\n",
       "      <td>0.563554</td>\n",
       "      <td>0.570532</td>\n",
       "      <td>0.563775</td>\n",
       "      <td>...</td>\n",
       "      <td>0.569999</td>\n",
       "      <td>0.571092</td>\n",
       "      <td>0.574069</td>\n",
       "      <td>0.571036</td>\n",
       "      <td>0.570265</td>\n",
       "      <td>0.572465</td>\n",
       "      <td>0.570699</td>\n",
       "      <td>0.573840</td>\n",
       "      <td>0.571654</td>\n",
       "      <td>0.001439</td>\n",
       "    </tr>\n",
       "  </tbody>\n",
       "</table>\n",
       "<p>5 rows × 31 columns</p>\n",
       "</div>"
      ],
      "text/plain": [
       "   mean_fit_time  std_fit_time  mean_score_time  std_score_time param_alpha  \\\n",
       "1       0.353951      0.095472         0.024635        0.019147           1   \n",
       "7       0.377292      0.057856         0.014861        0.010077          11   \n",
       "3       0.320244      0.096062         0.014062        0.009307          14   \n",
       "0       0.294511      0.080867         0.011968        0.003567          20   \n",
       "2       0.333807      0.116230         0.012368        0.004305          24   \n",
       "\n",
       "          params  split0_test_score  split1_test_score  split2_test_score  \\\n",
       "1   {'alpha': 1}           0.656654           0.678948           0.671653   \n",
       "7  {'alpha': 11}           0.569192           0.589660           0.594393   \n",
       "3  {'alpha': 14}           0.560949           0.580587           0.586078   \n",
       "0  {'alpha': 20}           0.550755           0.568740           0.575343   \n",
       "2  {'alpha': 24}           0.546300           0.563554           0.570532   \n",
       "\n",
       "   split3_test_score  ...  split2_train_score  split3_train_score  \\\n",
       "1           0.658960  ...            0.734155            0.733256   \n",
       "7           0.585483  ...            0.604553            0.605507   \n",
       "3           0.577900  ...            0.592443            0.593452   \n",
       "0           0.568131  ...            0.576866            0.577944   \n",
       "2           0.563775  ...            0.569999            0.571092   \n",
       "\n",
       "   split4_train_score  split5_train_score  split6_train_score  \\\n",
       "1            0.733427            0.735326            0.733570   \n",
       "7            0.607758            0.605547            0.605306   \n",
       "3            0.595987            0.593416            0.593066   \n",
       "0            0.580798            0.577876            0.577258   \n",
       "2            0.574069            0.571036            0.570265   \n",
       "\n",
       "   split7_train_score  split8_train_score  split9_train_score  \\\n",
       "1            0.733743            0.734920            0.733066   \n",
       "7            0.606563            0.605165            0.607539   \n",
       "3            0.594632            0.593067            0.595771   \n",
       "0            0.579269            0.577545            0.580574   \n",
       "2            0.572465            0.570699            0.573840   \n",
       "\n",
       "   mean_train_score  std_train_score  \n",
       "1          0.734082         0.000964  \n",
       "7          0.605991         0.001184  \n",
       "3          0.593970         0.001281  \n",
       "0          0.578493         0.001395  \n",
       "2          0.571654         0.001439  \n",
       "\n",
       "[5 rows x 31 columns]"
      ]
     },
     "execution_count": 76,
     "metadata": {},
     "output_type": "execute_result"
    }
   ],
   "source": [
    "plt.plot(RS_alphas, train_auc, label='Train AUC')\n",
    "# this code is copied from here: https://stackoverflow.com/a/48803361/4084039\n",
    "# plt.gca().fill_between(K, train_auc - train_auc_std,train_auc + train_auc_std,alpha=0.2,color='darkblue')\n",
    "\n",
    "plt.plot(RS_alphas, cv_auc, label='CV AUC')\n",
    "# this code is copied from here: https://stackoverflow.com/a/48803361/4084039\n",
    "# plt.gca().fill_between(K, cv_auc - cv_auc_std,cv_auc + cv_auc_std,alpha=0.2,color='darkorange')\n",
    "\n",
    "plt.scatter(RS_alphas, train_auc, label='Train AUC points')\n",
    "plt.scatter(RS_alphas, cv_auc, label='CV AUC points')\n",
    "\n",
    "\n",
    "plt.legend()\n",
    "plt.xlabel(\"Alpha: hyperparameter\")\n",
    "plt.ylabel(\"AUC\")\n",
    "plt.title(\"Hyper parameter Vs AUC plot\")\n",
    "plt.grid()\n",
    "plt.show()\n",
    "\n",
    "results.head()"
   ]
  },
  {
   "cell_type": "markdown",
   "metadata": {},
   "source": [
    "#### Observations :\n",
    "    1. Above plot shows that Train_data has higher AUC than Cross validation data.\n",
    "    2.There is is steep fall when alpha is greater than 0.001 which shows that as alpha increases beyond 0.001 performance reduces steeply.\n",
    "    3.Alpha at which cross validation AUC is maximum is 1."
   ]
  },
  {
   "cell_type": "markdown",
   "metadata": {},
   "source": [
    "### Train the Model using the best hyper parameter value "
   ]
  },
  {
   "cell_type": "code",
   "execution_count": 77,
   "metadata": {},
   "outputs": [
    {
     "name": "stdout",
     "output_type": "stream",
     "text": [
      "Best Alpha as a result of Random Search {'alpha': 1}\n"
     ]
    }
   ],
   "source": [
    "### https://forums.fast.ai/t/hyperparameter-random-search-interpretation/8591 ---to get the best hyper parameter as a reuslt of Random search\n",
    "best_alpha = clf.best_params_\n",
    "print('Best Alpha as a result of Random Search',best_alpha)"
   ]
  },
  {
   "cell_type": "code",
   "execution_count": 78,
   "metadata": {},
   "outputs": [
    {
     "data": {
      "image/png": "[encoded data removed]",
      "text/plain": [
       "<Figure size 432x288 with 1 Axes>"
      ]
     },
     "metadata": {},
     "output_type": "display_data"
    }
   ],
   "source": [
    "# https://scikit-learn.org/stable/modules/generated/sklearn.metrics.roc_curve.html#sklearn.metrics.roc_curve\n",
    "from sklearn.metrics import roc_curve, auc\n",
    "\n",
    "\n",
    "MB_tfidf = MultinomialNB(alpha = 0.1,class_prior=[0.5,0.5])\n",
    "MB_tfidf.fit(X_train_tfidf, y_train)\n",
    "# roc_auc_score(y_true, y_score) the 2nd parameter should be probability estimates of the positive class\n",
    "# not the predicted outputs\n",
    "\n",
    "y_train_pred = batch_predict(MB_tfidf, X_train_tfidf)    \n",
    "y_test_pred = batch_predict(MB_tfidf, X_test_tfidf)\n",
    "\n",
    "train_fpr, train_tpr, tr_thresholds = roc_curve(y_train, y_train_pred)\n",
    "test_fpr, test_tpr, te_thresholds = roc_curve(y_test, y_test_pred)\n",
    "\n",
    "plt.plot(train_fpr, train_tpr, label=\"train AUC =\"+str(auc(train_fpr, train_tpr)))\n",
    "plt.plot(test_fpr, test_tpr, label=\"test AUC =\"+str(auc(test_fpr, test_tpr)))\n",
    "plt.legend()\n",
    "plt.xlabel(\"False Possitive Rate (FPR)\")\n",
    "plt.ylabel(\"True Possitive Rate (TPR)\")\n",
    "plt.title(\"ERROR PLOTS\")\n",
    "plt.grid()\n",
    "plt.show()"
   ]
  },
  {
   "cell_type": "markdown",
   "metadata": {},
   "source": [
    "### Observations:\n",
    "     1. Train AUC observed to be 0.75 and Test AUC observed to be 0.67 when considering the best alpha."
   ]
  },
  {
   "cell_type": "markdown",
   "metadata": {},
   "source": [
    "### CONFUSION MATRIX"
   ]
  },
  {
   "cell_type": "code",
   "execution_count": 79,
   "metadata": {},
   "outputs": [],
   "source": [
    "# we are writing our own function for predict, with defined thresould\n",
    "# we will pick a threshold that will give the least fpr\n",
    "def find_best_threshold(threshould, fpr, tpr):\n",
    "    t = threshould[np.argmax(tpr*(1-fpr))]\n",
    "    # (tpr*(1-fpr)) will be maximum if your fpr is very low and tpr is very high\n",
    "    print(\"the maximum value of tpr*(1-fpr)\", max(tpr*(1-fpr)), \"for threshold\", np.round(t,3))\n",
    "    return t\n",
    "\n",
    "def predict_with_best_t(proba, threshould):\n",
    "    predictions = []\n",
    "    for i in proba:\n",
    "        if i>=threshould:\n",
    "            predictions.append(1)\n",
    "        else:\n",
    "            predictions.append(0)\n",
    "    return predictions"
   ]
  },
  {
   "cell_type": "code",
   "execution_count": 80,
   "metadata": {},
   "outputs": [
    {
     "name": "stdout",
     "output_type": "stream",
     "text": [
      "====================================================================================================\n",
      "the maximum value of tpr*(1-fpr) 0.474991747645 for threshold 0.505\n",
      "Train confusion matrix\n",
      "[[ 5240  2186]\n",
      " [13602 28013]]\n",
      "Test confusion matrix\n",
      "[[ 3240  2219]\n",
      " [10493 20100]]\n"
     ]
    }
   ],
   "source": [
    "print(\"=\"*100)\n",
    "from sklearn.metrics import confusion_matrix\n",
    "best_t = find_best_threshold(tr_thresholds, train_fpr, train_tpr)\n",
    "print(\"Train confusion matrix\")\n",
    "print(confusion_matrix(y_train, predict_with_best_t(y_train_pred, best_t)))\n",
    "print(\"Test confusion matrix\")\n",
    "print(confusion_matrix(y_test, predict_with_best_t(y_test_pred, best_t)))"
   ]
  },
  {
   "cell_type": "markdown",
   "metadata": {},
   "source": [
    "#### Ploting Confusion Matrix on Train data"
   ]
  },
  {
   "cell_type": "code",
   "execution_count": 81,
   "metadata": {},
   "outputs": [
    {
     "data": {
      "image/png": "[encoded data removed]",
      "text/plain": [
       "<Figure size 432x288 with 2 Axes>"
      ]
     },
     "metadata": {},
     "output_type": "display_data"
    }
   ],
   "source": [
    "### PLOT the matrix for Train\n",
    "# source : https://stackoverflow.com/questions/35572000/how-can-i-plot-a-confusion-matrix\n",
    "df_cm = pd.DataFrame(confusion_matrix(y_train, predict_with_best_t(y_train_pred, best_t)), range(2), range(2))\n",
    "# plt.figure(figsize=(10,7))\n",
    "sns.set(font_scale=1.4) # for label size\n",
    "sns.heatmap(df_cm, annot=True, annot_kws={\"size\": 16},fmt='g') # font size\n",
    "plt.show()"
   ]
  },
  {
   "cell_type": "markdown",
   "metadata": {},
   "source": [
    "#### Plotting Cnfusion Matrix on Test Data"
   ]
  },
  {
   "cell_type": "code",
   "execution_count": 82,
   "metadata": {},
   "outputs": [
    {
     "data": {
      "image/png": "[encoded data removed]",
      "text/plain": [
       "<Figure size 432x288 with 2 Axes>"
      ]
     },
     "metadata": {},
     "output_type": "display_data"
    }
   ],
   "source": [
    "### PLOT the matrix for Train\n",
    "# source : https://stackoverflow.com/questions/35572000/how-can-i-plot-a-confusion-matrix\n",
    "df_cm = pd.DataFrame(confusion_matrix(y_test, predict_with_best_t(y_test_pred, best_t)), range(2), range(2))\n",
    "# plt.figure(figsize=(10,7))\n",
    "sns.set(font_scale=1.4) # for label size\n",
    "sns.heatmap(df_cm, annot=True, annot_kws={\"size\": 16},fmt='g') # font size\n",
    "plt.show()"
   ]
  },
  {
   "cell_type": "markdown",
   "metadata": {},
   "source": [
    "### Observations :\n",
    "    1.We can observe from train and test we are getting majority True positives\n",
    "    2.Least number of data falls in False negative,which refers as least number of projects were incorrectly predicted as not approved in both Test and Train.\n",
    "    3.For a model to perform well we need High True Positive Rate and Low False Positive Rate.From the above our train data has True Positive Rate as 93% and False Positive Rate as 72%\n",
    "    4.In our test data : True Positive Rate as 90% and False Positive Rate as 76%. "
   ]
  },
  {
   "cell_type": "markdown",
   "metadata": {},
   "source": [
    "###  Step 4: finding the top 20 features from either from feature Set 1  absolute values of feature_log_prob_    parameter of MultinomialNB"
   ]
  },
  {
   "cell_type": "code",
   "execution_count": 83,
   "metadata": {},
   "outputs": [
    {
     "name": "stdout",
     "output_type": "stream",
     "text": [
      "(49041, 7113)\n",
      "(36052, 7113)\n",
      "(24155, 7113)\n"
     ]
    }
   ],
   "source": [
    "# merge two sparse matrices: https://stackoverflow.com/a/19710648/4084039\n",
    "## Reference  : https://datascience.stackexchange.com/questions/65219/find-the-top-n-features-from-feature-set-using-absolute-values-of-feature-log-p\n",
    "\n",
    "from scipy.sparse import hstack\n",
    "\n",
    "\n",
    "X_train_bow = hstack((train_categories, train_subcategories,sklstate_train,teacher_prefix_train,\n",
    "            proj_grade_train,bow_essay_train,bow_title_train,\n",
    "            X_train_price_norm,quantity_train_norm,prev_projects_train_norm,title_word_count_train_norm,\n",
    "            essay_word_count_train_norm)).tocsr()\n",
    "\n",
    "X_test_bow = hstack((test_categories, test_subcategories,sklstate_test,teacher_prefix_test,\n",
    "            proj_grade_test,bow_essay_test,bow_title_test,\n",
    "            X_test_price_norm,quantity_test_norm,prev_projects_test_norm,title_word_count_test_norm,\n",
    "            essay_word_count_test_norm)).tocsr()\n",
    "\n",
    "X_cv_bow = hstack((cv_categories, cv_subcategories,sklstate_cv,teacher_prefix_cv,\n",
    "            proj_grade_cv,bow_essay_cv,bow_title_cv,\n",
    "            X_cv_price_norm,quantity_cv_norm,prev_projects_cv_norm,title_word_count_cv_norm,\n",
    "            essay_word_count_cv_norm)).tocsr()\n",
    "\n",
    "\n",
    "print(X_train_bow.shape)\n",
    "print(X_test_bow.shape)\n",
    "print(X_cv_bow.shape)"
   ]
  },
  {
   "cell_type": "code",
   "execution_count": 84,
   "metadata": {},
   "outputs": [
    {
     "data": {
      "text/plain": [
       "MultinomialNB(alpha=0.1, class_prior=[0.5, 0.5])"
      ]
     },
     "execution_count": 84,
     "metadata": {},
     "output_type": "execute_result"
    }
   ],
   "source": [
    "## Train the model with the chosesn hyper parameter\n",
    "MB=MultinomialNB(class_prior=[0.5,0.5],alpha=0.1)\n",
    "MB.fit(X_train_bow,y_train)"
   ]
  },
  {
   "cell_type": "code",
   "execution_count": 85,
   "metadata": {},
   "outputs": [],
   "source": [
    "### sort all the features based on the log probabalilities using argsort\n",
    "# Possitive class\n",
    "class_1_sorted_prob=MB.feature_log_prob_[1,:].argsort()\n",
    "class_0_sorted_prob=MB.feature_log_prob_[0,:].argsort()"
   ]
  },
  {
   "cell_type": "code",
   "execution_count": 86,
   "metadata": {
    "scrolled": true
   },
   "outputs": [],
   "source": [
    "features_lst=list(cat_vectorize.get_feature_names()+ subcat_vectorize.get_feature_names()+\n",
    "                 sklstate_vectorize.get_feature_names()+teacher_prefix_vectorize.get_feature_names()+\n",
    "            proj_grade_vectorize.get_feature_names()+bow_essay.get_feature_names()+bowtitle.get_feature_names()+\n",
    "            [\"price\"]+['Quantity']+['teacher_number_of_previously_posted_projects']+['words_in_title']+\n",
    "            ['words_in_essay'])"
   ]
  },
  {
   "cell_type": "code",
   "execution_count": 87,
   "metadata": {},
   "outputs": [
    {
     "name": "stdout",
     "output_type": "stream",
     "text": [
      "20 most imp features for positive class:\n",
      "\n",
      "['technology', 'would', 'class', 'come', 'able', 'day', 'love', 'use', 'reading', 'work', 'need', 'nannan', 'many', 'help', 'learn', 'not', 'classroom', 'learning', 'school']\n",
      "\n",
      "----------------------------------------------------------------------------------------------------\n",
      "\n",
      "20 most imp features for negative class:\n",
      "\n",
      "['class', 'use', 'day', 'skills', 'able', 'reading', 'materials', 'love', 'come', 'work', 'need', 'many', 'nannan', 'help', 'learn', 'not', 'classroom', 'learning', 'school']\n"
     ]
    }
   ],
   "source": [
    "Most_imp_words_1 = []\n",
    "Most_imp_words_0 = []\n",
    "\n",
    "for index in class_1_sorted_prob[-20:-1]:\n",
    "    Most_imp_words_1.append(features_lst[index])\n",
    "\n",
    "for index in class_0_sorted_prob[-20:-1]:\n",
    "    Most_imp_words_0.append(features_lst[index])\n",
    "\n",
    "print(\"20 most imp features for positive class:\\n\")\n",
    "print(Most_imp_words_1)\n",
    "\n",
    "print(\"\\n\" + \"-\"*100)\n",
    "\n",
    "print(\"\\n20 most imp features for negative class:\\n\")\n",
    "print(Most_imp_words_0)"
   ]
  },
  {
   "cell_type": "markdown",
   "metadata": {},
   "source": [
    "### Observations:\n",
    "    1.Both the negetive and possitive class tends to have similar words/features as most important with difference in ordering."
   ]
  },
  {
   "cell_type": "markdown",
   "metadata": {},
   "source": [
    "#### FInal Representation"
   ]
  },
  {
   "cell_type": "code",
   "execution_count": 88,
   "metadata": {},
   "outputs": [
    {
     "name": "stdout",
     "output_type": "stream",
     "text": [
      "+------------+-------------------------+-----------------+------------+-----------+\n",
      "| Vectorizer |          Model          | Hyper Parameter |  Train AUC | Test AUC  |\n",
      "+------------+-------------------------+-----------------+------------+-----------+\n",
      "|    BOW     | Multinomial Naive Bayes |       0.1       |    0.76    |    0.7    |\n",
      "|   TFIDF    | Multinomial Naive Bayes |       0.1       |    0.75    |    0.67   |\n",
      "+------------+-------------------------+-----------------+------------+-----------+\n"
     ]
    }
   ],
   "source": [
    "##http://zetcode.com/python/prettytable/\n",
    "\n",
    "from prettytable import PrettyTable\n",
    "\n",
    "x = PrettyTable()\n",
    "x.field_names = [\"Vectorizer\", \"Model\", \"Hyper Parameter\", \" Train AUC\" ,\"Test AUC \"]\n",
    "\n",
    "x.add_row([\"BOW\", \"Multinomial Naive Bayes\", 0.1, 0.76,0.70])\n",
    "x.add_row([\"TFIDF\", \"Multinomial Naive Bayes\",0.1, 0.75, 0.67])\n",
    "\n",
    "print(x)"
   ]
  }
 ],
 "metadata": {
  "kernelspec": {
   "display_name": "Python 3",
   "language": "python",
   "name": "python3"
  },
  "language_info": {
   "codemirror_mode": {
    "name": "ipython",
    "version": 3
   },
   "file_extension": ".py",
   "mimetype": "text/x-python",
   "name": "python",
   "nbconvert_exporter": "python",
   "pygments_lexer": "ipython3",
   "version": "3.6.8"
  }
 },
 "nbformat": 4,
 "nbformat_minor": 2
}
